{
 "cells": [
  {
   "cell_type": "code",
   "execution_count": 64,
   "id": "3c0aaf85",
   "metadata": {},
   "outputs": [],
   "source": [
    "import pandas as pd\n",
    "import os\n",
    "\n",
    "fitbit = 'fitbit_export_20220704.csv'\n",
    "folder = r'data'"
   ]
  },
  {
   "cell_type": "code",
   "execution_count": 79,
   "id": "3666a680",
   "metadata": {},
   "outputs": [],
   "source": [
    "def fitbit_parser(csv_name):\n",
    "    \n",
    "    #read in csv\n",
    "    df = pd.read_csv(csv_name, skiprows=1)\n",
    "    #subset using masks\n",
    "    mask = df['Date'].str.contains(':')\n",
    "    sleep = df[mask]\n",
    "    activity = df[~mask]\n",
    "    #format df\n",
    "    header = activity.iloc[-1].tolist()\n",
    "    sleep.columns = header\n",
    "    sleep = sleep.drop(sleep.columns[-1], axis=1)\n",
    "\n",
    "    return sleep, activity\n",
    "\n",
    "def loseit_parser(folder_name):\n",
    "    \n",
    "    filelist = [file for file in os.listdir(folder_name) if file.startswith('W')]\n",
    "    \n",
    "    database = {}\n",
    "    for file in filelist:\n",
    "        database[file] = pd.read_csv(r'data/'+file)\n",
    "        \n",
    "    food = pd.concat(database, axis=0).reset_index(level=0)\n",
    "    \n",
    "    return food\n",
    "\n",
    "def sleep_date_time(df):\n",
    "    df['Start Time'] = pd.to_datetime( df['Start Time'])\n",
    "    df['End Time'] = pd.to_datetime( df['End Time'])\n",
    "    df.sort_values(by='End Time', inplace=True)\n",
    "    df['DayOfWeek'] = df['End Time'].dt.day_name()\n",
    "    \n",
    "    return df\n",
    "\n",
    "def food_date_time(df):\n",
    "    food['Date'] = pd.to_datetime(food['Date'])\n",
    "    food.sort_values(by='Date', inplace=True)\n",
    "    df['DayOfWeek'] = df['Date'].dt.day_name()\n",
    "    df = df.drop(df.columns[0], axis=1)\n",
    "    \n",
    "    return df\n",
    "    "
   ]
  },
  {
   "cell_type": "code",
   "execution_count": 80,
   "id": "2a014871",
   "metadata": {
    "scrolled": true
   },
   "outputs": [],
   "source": [
    "activity = fitbit_parser(fitbit)[1]\n",
    "sleep = fitbit_parser(fitbit)[0]\n",
    "food = loseit_parser(folder)\n",
    "\n",
    "sleep = sleep_date_time(sleep)\n",
    "food = food_date_time(food)"
   ]
  },
  {
   "cell_type": "code",
   "execution_count": 15,
   "id": "3465ae9e",
   "metadata": {},
   "outputs": [
    {
     "data": {
      "text/plain": [
       "8892"
      ]
     },
     "execution_count": 15,
     "metadata": {},
     "output_type": "execute_result"
    }
   ],
   "source": [
    "#food.isnull().sum()\n",
    "#food.nunique()\n",
    "food.size"
   ]
  },
  {
   "cell_type": "code",
   "execution_count": 18,
   "id": "d21ffd2c",
   "metadata": {},
   "outputs": [],
   "source": [
    "import numpy as np\n",
    "#food = food.replace(0, np.NaN)"
   ]
  },
  {
   "cell_type": "code",
   "execution_count": 83,
   "id": "27b9fbab",
   "metadata": {},
   "outputs": [],
   "source": [
    "food['Dates'] = food.loc[:, 'Date']"
   ]
  },
  {
   "cell_type": "code",
   "execution_count": 85,
   "id": "c62e6f00",
   "metadata": {},
   "outputs": [
    {
     "data": {
      "text/html": [
       "<div>\n",
       "<style scoped>\n",
       "    .dataframe tbody tr th:only-of-type {\n",
       "        vertical-align: middle;\n",
       "    }\n",
       "\n",
       "    .dataframe tbody tr th {\n",
       "        vertical-align: top;\n",
       "    }\n",
       "\n",
       "    .dataframe thead th {\n",
       "        text-align: right;\n",
       "    }\n",
       "</style>\n",
       "<table border=\"1\" class=\"dataframe\">\n",
       "  <thead>\n",
       "    <tr style=\"text-align: right;\">\n",
       "      <th></th>\n",
       "      <th>Date</th>\n",
       "      <th>Name</th>\n",
       "      <th>Icon</th>\n",
       "      <th>Type</th>\n",
       "      <th>Quantity</th>\n",
       "      <th>Units</th>\n",
       "      <th>Calories</th>\n",
       "      <th>Deleted</th>\n",
       "      <th>Fat (g)</th>\n",
       "      <th>Protein (g)</th>\n",
       "      <th>Carbohydrates (g)</th>\n",
       "      <th>Saturated Fat (g)</th>\n",
       "      <th>Sugars (g)</th>\n",
       "      <th>Fiber (g)</th>\n",
       "      <th>Cholesterol (mg)</th>\n",
       "      <th>Sodium (mg)</th>\n",
       "      <th>DayOfWeek</th>\n",
       "      <th>Dates</th>\n",
       "    </tr>\n",
       "  </thead>\n",
       "  <tbody>\n",
       "    <tr>\n",
       "      <th>70</th>\n",
       "      <td>2022-05-25</td>\n",
       "      <td>Fuzzy Peach</td>\n",
       "      <td>Candy</td>\n",
       "      <td>Snacks</td>\n",
       "      <td>3.25</td>\n",
       "      <td>Grams</td>\n",
       "      <td>12</td>\n",
       "      <td>0</td>\n",
       "      <td>0.0</td>\n",
       "      <td>0.0</td>\n",
       "      <td>2.9</td>\n",
       "      <td>0.0</td>\n",
       "      <td>2.45</td>\n",
       "      <td>0.0</td>\n",
       "      <td>0.0</td>\n",
       "      <td>2.75</td>\n",
       "      <td>Wednesday</td>\n",
       "      <td>2022-05-25</td>\n",
       "    </tr>\n",
       "    <tr>\n",
       "      <th>59</th>\n",
       "      <td>2022-05-25</td>\n",
       "      <td>Chicken Ham &amp; Swiss</td>\n",
       "      <td>Chicken</td>\n",
       "      <td>Lunch</td>\n",
       "      <td>1.00</td>\n",
       "      <td>Piece</td>\n",
       "      <td>290</td>\n",
       "      <td>0</td>\n",
       "      <td>12.0</td>\n",
       "      <td>24.0</td>\n",
       "      <td>21.0</td>\n",
       "      <td>3.0</td>\n",
       "      <td>1.00</td>\n",
       "      <td>1.0</td>\n",
       "      <td>60.0</td>\n",
       "      <td>510.00</td>\n",
       "      <td>Wednesday</td>\n",
       "      <td>2022-05-25</td>\n",
       "    </tr>\n",
       "  </tbody>\n",
       "</table>\n",
       "</div>"
      ],
      "text/plain": [
       "         Date                 Name     Icon    Type  Quantity  Units Calories  \\\n",
       "70 2022-05-25          Fuzzy Peach    Candy  Snacks      3.25  Grams       12   \n",
       "59 2022-05-25  Chicken Ham & Swiss  Chicken   Lunch      1.00  Piece      290   \n",
       "\n",
       "    Deleted  Fat (g)  Protein (g)  Carbohydrates (g)  Saturated Fat (g)  \\\n",
       "70        0      0.0          0.0                2.9                0.0   \n",
       "59        0     12.0         24.0               21.0                3.0   \n",
       "\n",
       "    Sugars (g)  Fiber (g)  Cholesterol (mg)  Sodium (mg)  DayOfWeek      Dates  \n",
       "70        2.45        0.0               0.0         2.75  Wednesday 2022-05-25  \n",
       "59        1.00        1.0              60.0       510.00  Wednesday 2022-05-25  "
      ]
     },
     "execution_count": 85,
     "metadata": {},
     "output_type": "execute_result"
    }
   ],
   "source": [
    "food.head(2)"
   ]
  },
  {
   "cell_type": "code",
   "execution_count": 86,
   "id": "02700be9",
   "metadata": {},
   "outputs": [],
   "source": [
    "food = food.set_index('Date')"
   ]
  },
  {
   "cell_type": "code",
   "execution_count": 87,
   "id": "90b07a3b",
   "metadata": {},
   "outputs": [
    {
     "data": {
      "text/html": [
       "<div>\n",
       "<style scoped>\n",
       "    .dataframe tbody tr th:only-of-type {\n",
       "        vertical-align: middle;\n",
       "    }\n",
       "\n",
       "    .dataframe tbody tr th {\n",
       "        vertical-align: top;\n",
       "    }\n",
       "\n",
       "    .dataframe thead th {\n",
       "        text-align: right;\n",
       "    }\n",
       "</style>\n",
       "<table border=\"1\" class=\"dataframe\">\n",
       "  <thead>\n",
       "    <tr style=\"text-align: right;\">\n",
       "      <th></th>\n",
       "      <th>Name</th>\n",
       "      <th>Icon</th>\n",
       "      <th>Type</th>\n",
       "      <th>Quantity</th>\n",
       "      <th>Units</th>\n",
       "      <th>Calories</th>\n",
       "      <th>Deleted</th>\n",
       "      <th>Fat (g)</th>\n",
       "      <th>Protein (g)</th>\n",
       "      <th>Carbohydrates (g)</th>\n",
       "      <th>Saturated Fat (g)</th>\n",
       "      <th>Sugars (g)</th>\n",
       "      <th>Fiber (g)</th>\n",
       "      <th>Cholesterol (mg)</th>\n",
       "      <th>Sodium (mg)</th>\n",
       "      <th>DayOfWeek</th>\n",
       "      <th>Dates</th>\n",
       "    </tr>\n",
       "    <tr>\n",
       "      <th>Date</th>\n",
       "      <th></th>\n",
       "      <th></th>\n",
       "      <th></th>\n",
       "      <th></th>\n",
       "      <th></th>\n",
       "      <th></th>\n",
       "      <th></th>\n",
       "      <th></th>\n",
       "      <th></th>\n",
       "      <th></th>\n",
       "      <th></th>\n",
       "      <th></th>\n",
       "      <th></th>\n",
       "      <th></th>\n",
       "      <th></th>\n",
       "      <th></th>\n",
       "      <th></th>\n",
       "    </tr>\n",
       "  </thead>\n",
       "  <tbody>\n",
       "    <tr>\n",
       "      <th>2022-05-25</th>\n",
       "      <td>Fuzzy Peach</td>\n",
       "      <td>Candy</td>\n",
       "      <td>Snacks</td>\n",
       "      <td>3.25</td>\n",
       "      <td>Grams</td>\n",
       "      <td>12</td>\n",
       "      <td>0</td>\n",
       "      <td>0.00</td>\n",
       "      <td>0.00</td>\n",
       "      <td>2.90</td>\n",
       "      <td>0.00</td>\n",
       "      <td>2.45</td>\n",
       "      <td>0.00</td>\n",
       "      <td>0.00</td>\n",
       "      <td>2.75</td>\n",
       "      <td>Wednesday</td>\n",
       "      <td>2022-05-25</td>\n",
       "    </tr>\n",
       "    <tr>\n",
       "      <th>2022-05-25</th>\n",
       "      <td>Chicken Ham &amp; Swiss</td>\n",
       "      <td>Chicken</td>\n",
       "      <td>Lunch</td>\n",
       "      <td>1.00</td>\n",
       "      <td>Piece</td>\n",
       "      <td>290</td>\n",
       "      <td>0</td>\n",
       "      <td>12.00</td>\n",
       "      <td>24.00</td>\n",
       "      <td>21.00</td>\n",
       "      <td>3.00</td>\n",
       "      <td>1.00</td>\n",
       "      <td>1.00</td>\n",
       "      <td>60.00</td>\n",
       "      <td>510.00</td>\n",
       "      <td>Wednesday</td>\n",
       "      <td>2022-05-25</td>\n",
       "    </tr>\n",
       "    <tr>\n",
       "      <th>2022-05-25</th>\n",
       "      <td>Bar, Chocolate Chip Chia</td>\n",
       "      <td>CerealBar</td>\n",
       "      <td>Breakfast</td>\n",
       "      <td>0.25</td>\n",
       "      <td>Serving</td>\n",
       "      <td>45</td>\n",
       "      <td>0</td>\n",
       "      <td>1.75</td>\n",
       "      <td>0.75</td>\n",
       "      <td>7.00</td>\n",
       "      <td>0.38</td>\n",
       "      <td>2.25</td>\n",
       "      <td>0.75</td>\n",
       "      <td>0.00</td>\n",
       "      <td>25.00</td>\n",
       "      <td>Wednesday</td>\n",
       "      <td>2022-05-25</td>\n",
       "    </tr>\n",
       "    <tr>\n",
       "      <th>2022-05-25</th>\n",
       "      <td>Fries, Sweet Potato, Organic from Costco (15 p...</td>\n",
       "      <td>FrenchFries</td>\n",
       "      <td>Lunch</td>\n",
       "      <td>85.00</td>\n",
       "      <td>Grams</td>\n",
       "      <td>140</td>\n",
       "      <td>0</td>\n",
       "      <td>6.00</td>\n",
       "      <td>1.00</td>\n",
       "      <td>21.00</td>\n",
       "      <td>1.00</td>\n",
       "      <td>8.00</td>\n",
       "      <td>2.00</td>\n",
       "      <td>0.00</td>\n",
       "      <td>230.00</td>\n",
       "      <td>Wednesday</td>\n",
       "      <td>2022-05-25</td>\n",
       "    </tr>\n",
       "    <tr>\n",
       "      <th>2022-05-25</th>\n",
       "      <td>Butter regular 2tsp Per Serv</td>\n",
       "      <td>Butter</td>\n",
       "      <td>Lunch</td>\n",
       "      <td>5.50</td>\n",
       "      <td>Grams</td>\n",
       "      <td>39</td>\n",
       "      <td>0</td>\n",
       "      <td>4.40</td>\n",
       "      <td>0.60</td>\n",
       "      <td>0.00</td>\n",
       "      <td>2.75</td>\n",
       "      <td>0.00</td>\n",
       "      <td>0.00</td>\n",
       "      <td>13.75</td>\n",
       "      <td>0.00</td>\n",
       "      <td>Wednesday</td>\n",
       "      <td>2022-05-25</td>\n",
       "    </tr>\n",
       "    <tr>\n",
       "      <th>...</th>\n",
       "      <td>...</td>\n",
       "      <td>...</td>\n",
       "      <td>...</td>\n",
       "      <td>...</td>\n",
       "      <td>...</td>\n",
       "      <td>...</td>\n",
       "      <td>...</td>\n",
       "      <td>...</td>\n",
       "      <td>...</td>\n",
       "      <td>...</td>\n",
       "      <td>...</td>\n",
       "      <td>...</td>\n",
       "      <td>...</td>\n",
       "      <td>...</td>\n",
       "      <td>...</td>\n",
       "      <td>...</td>\n",
       "      <td>...</td>\n",
       "    </tr>\n",
       "    <tr>\n",
       "      <th>2022-07-03</th>\n",
       "      <td>Crackers Garden Vegetable</td>\n",
       "      <td>Cracker</td>\n",
       "      <td>Afternoon Snacks</td>\n",
       "      <td>4.00</td>\n",
       "      <td>Pieces</td>\n",
       "      <td>90.0</td>\n",
       "      <td>0</td>\n",
       "      <td>3.50</td>\n",
       "      <td>2.00</td>\n",
       "      <td>12.00</td>\n",
       "      <td>1.50</td>\n",
       "      <td>2.00</td>\n",
       "      <td>1.00</td>\n",
       "      <td>0.00</td>\n",
       "      <td>150.00</td>\n",
       "      <td>Sunday</td>\n",
       "      <td>2022-07-03</td>\n",
       "    </tr>\n",
       "    <tr>\n",
       "      <th>2022-07-03</th>\n",
       "      <td>Crackers Garden Vegetable</td>\n",
       "      <td>Cracker</td>\n",
       "      <td>Afternoon Snacks</td>\n",
       "      <td>2.00</td>\n",
       "      <td>Pieces</td>\n",
       "      <td>45.0</td>\n",
       "      <td>0</td>\n",
       "      <td>1.75</td>\n",
       "      <td>1.00</td>\n",
       "      <td>6.00</td>\n",
       "      <td>0.75</td>\n",
       "      <td>1.00</td>\n",
       "      <td>0.50</td>\n",
       "      <td>0.00</td>\n",
       "      <td>75.00</td>\n",
       "      <td>Sunday</td>\n",
       "      <td>2022-07-03</td>\n",
       "    </tr>\n",
       "    <tr>\n",
       "      <th>2022-07-03</th>\n",
       "      <td>Swiss Milk Chocolate With Whole Roasted Almonds</td>\n",
       "      <td>Chocolate</td>\n",
       "      <td>Afternoon Snacks</td>\n",
       "      <td>3.00</td>\n",
       "      <td>Pieces</td>\n",
       "      <td>57.0</td>\n",
       "      <td>0</td>\n",
       "      <td>3.67</td>\n",
       "      <td>1.00</td>\n",
       "      <td>5.33</td>\n",
       "      <td>1.50</td>\n",
       "      <td>4.00</td>\n",
       "      <td>0.33</td>\n",
       "      <td>0.00</td>\n",
       "      <td>5.00</td>\n",
       "      <td>Sunday</td>\n",
       "      <td>2022-07-03</td>\n",
       "    </tr>\n",
       "    <tr>\n",
       "      <th>2022-07-03</th>\n",
       "      <td>Swiss Milk Chocolate With Whole Roasted Almonds</td>\n",
       "      <td>Chocolate</td>\n",
       "      <td>Afternoon Snacks</td>\n",
       "      <td>2.00</td>\n",
       "      <td>Pieces</td>\n",
       "      <td>38.0</td>\n",
       "      <td>0</td>\n",
       "      <td>2.44</td>\n",
       "      <td>0.67</td>\n",
       "      <td>3.56</td>\n",
       "      <td>1.00</td>\n",
       "      <td>2.67</td>\n",
       "      <td>0.22</td>\n",
       "      <td>0.00</td>\n",
       "      <td>3.33</td>\n",
       "      <td>Sunday</td>\n",
       "      <td>2022-07-03</td>\n",
       "    </tr>\n",
       "    <tr>\n",
       "      <th>2022-07-03</th>\n",
       "      <td>Fitbit Adjustment</td>\n",
       "      <td>FitBitGreen</td>\n",
       "      <td>Exercise</td>\n",
       "      <td>0.00</td>\n",
       "      <td>minutes</td>\n",
       "      <td>0.0</td>\n",
       "      <td>4</td>\n",
       "      <td>NaN</td>\n",
       "      <td>NaN</td>\n",
       "      <td>NaN</td>\n",
       "      <td>NaN</td>\n",
       "      <td>NaN</td>\n",
       "      <td>NaN</td>\n",
       "      <td>NaN</td>\n",
       "      <td>NaN</td>\n",
       "      <td>Sunday</td>\n",
       "      <td>2022-07-03</td>\n",
       "    </tr>\n",
       "  </tbody>\n",
       "</table>\n",
       "<p>494 rows × 17 columns</p>\n",
       "</div>"
      ],
      "text/plain": [
       "                                                         Name         Icon  \\\n",
       "Date                                                                         \n",
       "2022-05-25                                        Fuzzy Peach        Candy   \n",
       "2022-05-25                                Chicken Ham & Swiss      Chicken   \n",
       "2022-05-25                           Bar, Chocolate Chip Chia    CerealBar   \n",
       "2022-05-25  Fries, Sweet Potato, Organic from Costco (15 p...  FrenchFries   \n",
       "2022-05-25                       Butter regular 2tsp Per Serv       Butter   \n",
       "...                                                       ...          ...   \n",
       "2022-07-03                          Crackers Garden Vegetable      Cracker   \n",
       "2022-07-03                          Crackers Garden Vegetable      Cracker   \n",
       "2022-07-03    Swiss Milk Chocolate With Whole Roasted Almonds    Chocolate   \n",
       "2022-07-03    Swiss Milk Chocolate With Whole Roasted Almonds    Chocolate   \n",
       "2022-07-03                                  Fitbit Adjustment  FitBitGreen   \n",
       "\n",
       "                        Type  Quantity    Units Calories  Deleted  Fat (g)  \\\n",
       "Date                                                                         \n",
       "2022-05-25            Snacks      3.25    Grams       12        0     0.00   \n",
       "2022-05-25             Lunch      1.00    Piece      290        0    12.00   \n",
       "2022-05-25         Breakfast      0.25  Serving       45        0     1.75   \n",
       "2022-05-25             Lunch     85.00    Grams      140        0     6.00   \n",
       "2022-05-25             Lunch      5.50    Grams       39        0     4.40   \n",
       "...                      ...       ...      ...      ...      ...      ...   \n",
       "2022-07-03  Afternoon Snacks      4.00   Pieces     90.0        0     3.50   \n",
       "2022-07-03  Afternoon Snacks      2.00   Pieces     45.0        0     1.75   \n",
       "2022-07-03  Afternoon Snacks      3.00   Pieces     57.0        0     3.67   \n",
       "2022-07-03  Afternoon Snacks      2.00   Pieces     38.0        0     2.44   \n",
       "2022-07-03          Exercise      0.00  minutes      0.0        4      NaN   \n",
       "\n",
       "            Protein (g)  Carbohydrates (g)  Saturated Fat (g)  Sugars (g)  \\\n",
       "Date                                                                        \n",
       "2022-05-25         0.00               2.90               0.00        2.45   \n",
       "2022-05-25        24.00              21.00               3.00        1.00   \n",
       "2022-05-25         0.75               7.00               0.38        2.25   \n",
       "2022-05-25         1.00              21.00               1.00        8.00   \n",
       "2022-05-25         0.60               0.00               2.75        0.00   \n",
       "...                 ...                ...                ...         ...   \n",
       "2022-07-03         2.00              12.00               1.50        2.00   \n",
       "2022-07-03         1.00               6.00               0.75        1.00   \n",
       "2022-07-03         1.00               5.33               1.50        4.00   \n",
       "2022-07-03         0.67               3.56               1.00        2.67   \n",
       "2022-07-03          NaN                NaN                NaN         NaN   \n",
       "\n",
       "            Fiber (g)  Cholesterol (mg)  Sodium (mg)  DayOfWeek      Dates  \n",
       "Date                                                                        \n",
       "2022-05-25       0.00              0.00         2.75  Wednesday 2022-05-25  \n",
       "2022-05-25       1.00             60.00       510.00  Wednesday 2022-05-25  \n",
       "2022-05-25       0.75              0.00        25.00  Wednesday 2022-05-25  \n",
       "2022-05-25       2.00              0.00       230.00  Wednesday 2022-05-25  \n",
       "2022-05-25       0.00             13.75         0.00  Wednesday 2022-05-25  \n",
       "...               ...               ...          ...        ...        ...  \n",
       "2022-07-03       1.00              0.00       150.00     Sunday 2022-07-03  \n",
       "2022-07-03       0.50              0.00        75.00     Sunday 2022-07-03  \n",
       "2022-07-03       0.33              0.00         5.00     Sunday 2022-07-03  \n",
       "2022-07-03       0.22              0.00         3.33     Sunday 2022-07-03  \n",
       "2022-07-03        NaN               NaN          NaN     Sunday 2022-07-03  \n",
       "\n",
       "[494 rows x 17 columns]"
      ]
     },
     "execution_count": 87,
     "metadata": {},
     "output_type": "execute_result"
    }
   ],
   "source": [
    "food"
   ]
  },
  {
   "cell_type": "code",
   "execution_count": 94,
   "id": "4bb15819",
   "metadata": {},
   "outputs": [],
   "source": [
    "food_weekly = food.resample('W').sum()"
   ]
  },
  {
   "cell_type": "code",
   "execution_count": 95,
   "id": "8d0659a6",
   "metadata": {},
   "outputs": [
    {
     "data": {
      "text/html": [
       "<div>\n",
       "<style scoped>\n",
       "    .dataframe tbody tr th:only-of-type {\n",
       "        vertical-align: middle;\n",
       "    }\n",
       "\n",
       "    .dataframe tbody tr th {\n",
       "        vertical-align: top;\n",
       "    }\n",
       "\n",
       "    .dataframe thead th {\n",
       "        text-align: right;\n",
       "    }\n",
       "</style>\n",
       "<table border=\"1\" class=\"dataframe\">\n",
       "  <thead>\n",
       "    <tr style=\"text-align: right;\">\n",
       "      <th></th>\n",
       "      <th>Quantity</th>\n",
       "      <th>Deleted</th>\n",
       "      <th>Fat (g)</th>\n",
       "      <th>Protein (g)</th>\n",
       "      <th>Carbohydrates (g)</th>\n",
       "      <th>Saturated Fat (g)</th>\n",
       "      <th>Sugars (g)</th>\n",
       "      <th>Fiber (g)</th>\n",
       "      <th>Cholesterol (mg)</th>\n",
       "      <th>Sodium (mg)</th>\n",
       "    </tr>\n",
       "    <tr>\n",
       "      <th>Date</th>\n",
       "      <th></th>\n",
       "      <th></th>\n",
       "      <th></th>\n",
       "      <th></th>\n",
       "      <th></th>\n",
       "      <th></th>\n",
       "      <th></th>\n",
       "      <th></th>\n",
       "      <th></th>\n",
       "      <th></th>\n",
       "    </tr>\n",
       "  </thead>\n",
       "  <tbody>\n",
       "    <tr>\n",
       "      <th>2022-05-29</th>\n",
       "      <td>3506.938</td>\n",
       "      <td>0</td>\n",
       "      <td>367.83</td>\n",
       "      <td>365.30</td>\n",
       "      <td>815.19</td>\n",
       "      <td>111.77</td>\n",
       "      <td>212.00</td>\n",
       "      <td>129.08</td>\n",
       "      <td>1701.24</td>\n",
       "      <td>10438.72</td>\n",
       "    </tr>\n",
       "    <tr>\n",
       "      <th>2022-06-05</th>\n",
       "      <td>3772.900</td>\n",
       "      <td>0</td>\n",
       "      <td>425.36</td>\n",
       "      <td>525.40</td>\n",
       "      <td>1370.78</td>\n",
       "      <td>138.56</td>\n",
       "      <td>352.37</td>\n",
       "      <td>185.07</td>\n",
       "      <td>1258.97</td>\n",
       "      <td>21219.49</td>\n",
       "    </tr>\n",
       "    <tr>\n",
       "      <th>2022-06-12</th>\n",
       "      <td>4728.100</td>\n",
       "      <td>0</td>\n",
       "      <td>432.89</td>\n",
       "      <td>461.35</td>\n",
       "      <td>1202.05</td>\n",
       "      <td>160.51</td>\n",
       "      <td>437.05</td>\n",
       "      <td>201.77</td>\n",
       "      <td>1001.46</td>\n",
       "      <td>11477.14</td>\n",
       "    </tr>\n",
       "    <tr>\n",
       "      <th>2022-06-19</th>\n",
       "      <td>3997.750</td>\n",
       "      <td>0</td>\n",
       "      <td>321.83</td>\n",
       "      <td>537.98</td>\n",
       "      <td>1451.76</td>\n",
       "      <td>107.81</td>\n",
       "      <td>428.14</td>\n",
       "      <td>187.71</td>\n",
       "      <td>1329.18</td>\n",
       "      <td>9078.65</td>\n",
       "    </tr>\n",
       "    <tr>\n",
       "      <th>2022-06-26</th>\n",
       "      <td>4425.060</td>\n",
       "      <td>0</td>\n",
       "      <td>428.06</td>\n",
       "      <td>611.23</td>\n",
       "      <td>1446.62</td>\n",
       "      <td>120.01</td>\n",
       "      <td>409.23</td>\n",
       "      <td>205.98</td>\n",
       "      <td>1847.37</td>\n",
       "      <td>13465.42</td>\n",
       "    </tr>\n",
       "    <tr>\n",
       "      <th>2022-07-03</th>\n",
       "      <td>6380.170</td>\n",
       "      <td>4</td>\n",
       "      <td>430.19</td>\n",
       "      <td>622.82</td>\n",
       "      <td>1743.27</td>\n",
       "      <td>161.84</td>\n",
       "      <td>508.35</td>\n",
       "      <td>227.52</td>\n",
       "      <td>1463.33</td>\n",
       "      <td>12782.20</td>\n",
       "    </tr>\n",
       "  </tbody>\n",
       "</table>\n",
       "</div>"
      ],
      "text/plain": [
       "            Quantity  Deleted  Fat (g)  Protein (g)  Carbohydrates (g)  \\\n",
       "Date                                                                     \n",
       "2022-05-29  3506.938        0   367.83       365.30             815.19   \n",
       "2022-06-05  3772.900        0   425.36       525.40            1370.78   \n",
       "2022-06-12  4728.100        0   432.89       461.35            1202.05   \n",
       "2022-06-19  3997.750        0   321.83       537.98            1451.76   \n",
       "2022-06-26  4425.060        0   428.06       611.23            1446.62   \n",
       "2022-07-03  6380.170        4   430.19       622.82            1743.27   \n",
       "\n",
       "            Saturated Fat (g)  Sugars (g)  Fiber (g)  Cholesterol (mg)  \\\n",
       "Date                                                                     \n",
       "2022-05-29             111.77      212.00     129.08           1701.24   \n",
       "2022-06-05             138.56      352.37     185.07           1258.97   \n",
       "2022-06-12             160.51      437.05     201.77           1001.46   \n",
       "2022-06-19             107.81      428.14     187.71           1329.18   \n",
       "2022-06-26             120.01      409.23     205.98           1847.37   \n",
       "2022-07-03             161.84      508.35     227.52           1463.33   \n",
       "\n",
       "            Sodium (mg)  \n",
       "Date                     \n",
       "2022-05-29     10438.72  \n",
       "2022-06-05     21219.49  \n",
       "2022-06-12     11477.14  \n",
       "2022-06-19      9078.65  \n",
       "2022-06-26     13465.42  \n",
       "2022-07-03     12782.20  "
      ]
     },
     "execution_count": 95,
     "metadata": {},
     "output_type": "execute_result"
    }
   ],
   "source": [
    "food_weekly"
   ]
  },
  {
   "cell_type": "code",
   "execution_count": 96,
   "id": "55f5024b",
   "metadata": {},
   "outputs": [],
   "source": [
    "food_weekly.reset_index(inplace=True)"
   ]
  },
  {
   "cell_type": "code",
   "execution_count": 97,
   "id": "785444e6",
   "metadata": {},
   "outputs": [
    {
     "data": {
      "text/html": [
       "<div>\n",
       "<style scoped>\n",
       "    .dataframe tbody tr th:only-of-type {\n",
       "        vertical-align: middle;\n",
       "    }\n",
       "\n",
       "    .dataframe tbody tr th {\n",
       "        vertical-align: top;\n",
       "    }\n",
       "\n",
       "    .dataframe thead th {\n",
       "        text-align: right;\n",
       "    }\n",
       "</style>\n",
       "<table border=\"1\" class=\"dataframe\">\n",
       "  <thead>\n",
       "    <tr style=\"text-align: right;\">\n",
       "      <th></th>\n",
       "      <th>Date</th>\n",
       "      <th>Quantity</th>\n",
       "      <th>Deleted</th>\n",
       "      <th>Fat (g)</th>\n",
       "      <th>Protein (g)</th>\n",
       "      <th>Carbohydrates (g)</th>\n",
       "      <th>Saturated Fat (g)</th>\n",
       "      <th>Sugars (g)</th>\n",
       "      <th>Fiber (g)</th>\n",
       "      <th>Cholesterol (mg)</th>\n",
       "      <th>Sodium (mg)</th>\n",
       "    </tr>\n",
       "  </thead>\n",
       "  <tbody>\n",
       "    <tr>\n",
       "      <th>0</th>\n",
       "      <td>2022-05-29</td>\n",
       "      <td>3506.938</td>\n",
       "      <td>0</td>\n",
       "      <td>367.83</td>\n",
       "      <td>365.30</td>\n",
       "      <td>815.19</td>\n",
       "      <td>111.77</td>\n",
       "      <td>212.00</td>\n",
       "      <td>129.08</td>\n",
       "      <td>1701.24</td>\n",
       "      <td>10438.72</td>\n",
       "    </tr>\n",
       "    <tr>\n",
       "      <th>1</th>\n",
       "      <td>2022-06-05</td>\n",
       "      <td>3772.900</td>\n",
       "      <td>0</td>\n",
       "      <td>425.36</td>\n",
       "      <td>525.40</td>\n",
       "      <td>1370.78</td>\n",
       "      <td>138.56</td>\n",
       "      <td>352.37</td>\n",
       "      <td>185.07</td>\n",
       "      <td>1258.97</td>\n",
       "      <td>21219.49</td>\n",
       "    </tr>\n",
       "    <tr>\n",
       "      <th>2</th>\n",
       "      <td>2022-06-12</td>\n",
       "      <td>4728.100</td>\n",
       "      <td>0</td>\n",
       "      <td>432.89</td>\n",
       "      <td>461.35</td>\n",
       "      <td>1202.05</td>\n",
       "      <td>160.51</td>\n",
       "      <td>437.05</td>\n",
       "      <td>201.77</td>\n",
       "      <td>1001.46</td>\n",
       "      <td>11477.14</td>\n",
       "    </tr>\n",
       "    <tr>\n",
       "      <th>3</th>\n",
       "      <td>2022-06-19</td>\n",
       "      <td>3997.750</td>\n",
       "      <td>0</td>\n",
       "      <td>321.83</td>\n",
       "      <td>537.98</td>\n",
       "      <td>1451.76</td>\n",
       "      <td>107.81</td>\n",
       "      <td>428.14</td>\n",
       "      <td>187.71</td>\n",
       "      <td>1329.18</td>\n",
       "      <td>9078.65</td>\n",
       "    </tr>\n",
       "    <tr>\n",
       "      <th>4</th>\n",
       "      <td>2022-06-26</td>\n",
       "      <td>4425.060</td>\n",
       "      <td>0</td>\n",
       "      <td>428.06</td>\n",
       "      <td>611.23</td>\n",
       "      <td>1446.62</td>\n",
       "      <td>120.01</td>\n",
       "      <td>409.23</td>\n",
       "      <td>205.98</td>\n",
       "      <td>1847.37</td>\n",
       "      <td>13465.42</td>\n",
       "    </tr>\n",
       "    <tr>\n",
       "      <th>5</th>\n",
       "      <td>2022-07-03</td>\n",
       "      <td>6380.170</td>\n",
       "      <td>4</td>\n",
       "      <td>430.19</td>\n",
       "      <td>622.82</td>\n",
       "      <td>1743.27</td>\n",
       "      <td>161.84</td>\n",
       "      <td>508.35</td>\n",
       "      <td>227.52</td>\n",
       "      <td>1463.33</td>\n",
       "      <td>12782.20</td>\n",
       "    </tr>\n",
       "  </tbody>\n",
       "</table>\n",
       "</div>"
      ],
      "text/plain": [
       "        Date  Quantity  Deleted  Fat (g)  Protein (g)  Carbohydrates (g)  \\\n",
       "0 2022-05-29  3506.938        0   367.83       365.30             815.19   \n",
       "1 2022-06-05  3772.900        0   425.36       525.40            1370.78   \n",
       "2 2022-06-12  4728.100        0   432.89       461.35            1202.05   \n",
       "3 2022-06-19  3997.750        0   321.83       537.98            1451.76   \n",
       "4 2022-06-26  4425.060        0   428.06       611.23            1446.62   \n",
       "5 2022-07-03  6380.170        4   430.19       622.82            1743.27   \n",
       "\n",
       "   Saturated Fat (g)  Sugars (g)  Fiber (g)  Cholesterol (mg)  Sodium (mg)  \n",
       "0             111.77      212.00     129.08           1701.24     10438.72  \n",
       "1             138.56      352.37     185.07           1258.97     21219.49  \n",
       "2             160.51      437.05     201.77           1001.46     11477.14  \n",
       "3             107.81      428.14     187.71           1329.18      9078.65  \n",
       "4             120.01      409.23     205.98           1847.37     13465.42  \n",
       "5             161.84      508.35     227.52           1463.33     12782.20  "
      ]
     },
     "execution_count": 97,
     "metadata": {},
     "output_type": "execute_result"
    }
   ],
   "source": [
    "food_weekly"
   ]
  },
  {
   "cell_type": "code",
   "execution_count": 89,
   "id": "26b8dd78",
   "metadata": {},
   "outputs": [
    {
     "data": {
      "text/plain": [
       "Quantity             float64\n",
       "Deleted                int64\n",
       "Fat (g)              float64\n",
       "Protein (g)          float64\n",
       "Carbohydrates (g)    float64\n",
       "Saturated Fat (g)    float64\n",
       "Sugars (g)           float64\n",
       "Fiber (g)            float64\n",
       "Cholesterol (mg)     float64\n",
       "Sodium (mg)          float64\n",
       "dtype: object"
      ]
     },
     "execution_count": 89,
     "metadata": {},
     "output_type": "execute_result"
    }
   ],
   "source": [
    "food_weekly.dtypes"
   ]
  },
  {
   "cell_type": "code",
   "execution_count": 23,
   "id": "c242f934",
   "metadata": {},
   "outputs": [
    {
     "data": {
      "text/html": [
       "<div>\n",
       "<style scoped>\n",
       "    .dataframe tbody tr th:only-of-type {\n",
       "        vertical-align: middle;\n",
       "    }\n",
       "\n",
       "    .dataframe tbody tr th {\n",
       "        vertical-align: top;\n",
       "    }\n",
       "\n",
       "    .dataframe thead th {\n",
       "        text-align: right;\n",
       "    }\n",
       "</style>\n",
       "<table border=\"1\" class=\"dataframe\">\n",
       "  <thead>\n",
       "    <tr style=\"text-align: right;\">\n",
       "      <th></th>\n",
       "      <th>Name</th>\n",
       "      <th>Icon</th>\n",
       "      <th>Type</th>\n",
       "      <th>Quantity</th>\n",
       "      <th>Units</th>\n",
       "      <th>Calories</th>\n",
       "      <th>Deleted</th>\n",
       "      <th>Fat (g)</th>\n",
       "      <th>Protein (g)</th>\n",
       "      <th>Carbohydrates (g)</th>\n",
       "      <th>Saturated Fat (g)</th>\n",
       "      <th>Sugars (g)</th>\n",
       "      <th>Fiber (g)</th>\n",
       "      <th>Cholesterol (mg)</th>\n",
       "      <th>Sodium (mg)</th>\n",
       "      <th>DayOfWeek</th>\n",
       "    </tr>\n",
       "    <tr>\n",
       "      <th>Date</th>\n",
       "      <th></th>\n",
       "      <th></th>\n",
       "      <th></th>\n",
       "      <th></th>\n",
       "      <th></th>\n",
       "      <th></th>\n",
       "      <th></th>\n",
       "      <th></th>\n",
       "      <th></th>\n",
       "      <th></th>\n",
       "      <th></th>\n",
       "      <th></th>\n",
       "      <th></th>\n",
       "      <th></th>\n",
       "      <th></th>\n",
       "      <th></th>\n",
       "    </tr>\n",
       "  </thead>\n",
       "  <tbody>\n",
       "    <tr>\n",
       "      <th>2022-05-25</th>\n",
       "      <td>Fuzzy Peach</td>\n",
       "      <td>Candy</td>\n",
       "      <td>Snacks</td>\n",
       "      <td>3.25</td>\n",
       "      <td>Grams</td>\n",
       "      <td>12</td>\n",
       "      <td>0</td>\n",
       "      <td>0.0</td>\n",
       "      <td>0.0</td>\n",
       "      <td>2.9</td>\n",
       "      <td>0.0</td>\n",
       "      <td>2.45</td>\n",
       "      <td>0.0</td>\n",
       "      <td>0.0</td>\n",
       "      <td>2.75</td>\n",
       "      <td>Wednesday</td>\n",
       "    </tr>\n",
       "    <tr>\n",
       "      <th>2022-05-25</th>\n",
       "      <td>Chicken Ham &amp; Swiss</td>\n",
       "      <td>Chicken</td>\n",
       "      <td>Lunch</td>\n",
       "      <td>1.00</td>\n",
       "      <td>Piece</td>\n",
       "      <td>290</td>\n",
       "      <td>0</td>\n",
       "      <td>12.0</td>\n",
       "      <td>24.0</td>\n",
       "      <td>21.0</td>\n",
       "      <td>3.0</td>\n",
       "      <td>1.00</td>\n",
       "      <td>1.0</td>\n",
       "      <td>60.0</td>\n",
       "      <td>510.00</td>\n",
       "      <td>Wednesday</td>\n",
       "    </tr>\n",
       "  </tbody>\n",
       "</table>\n",
       "</div>"
      ],
      "text/plain": [
       "                           Name     Icon    Type  Quantity  Units Calories  \\\n",
       "Date                                                                         \n",
       "2022-05-25          Fuzzy Peach    Candy  Snacks      3.25  Grams       12   \n",
       "2022-05-25  Chicken Ham & Swiss  Chicken   Lunch      1.00  Piece      290   \n",
       "\n",
       "            Deleted  Fat (g)  Protein (g)  Carbohydrates (g)  \\\n",
       "Date                                                           \n",
       "2022-05-25        0      0.0          0.0                2.9   \n",
       "2022-05-25        0     12.0         24.0               21.0   \n",
       "\n",
       "            Saturated Fat (g)  Sugars (g)  Fiber (g)  Cholesterol (mg)  \\\n",
       "Date                                                                     \n",
       "2022-05-25                0.0        2.45        0.0               0.0   \n",
       "2022-05-25                3.0        1.00        1.0              60.0   \n",
       "\n",
       "            Sodium (mg)  DayOfWeek  \n",
       "Date                                \n",
       "2022-05-25         2.75  Wednesday  \n",
       "2022-05-25       510.00  Wednesday  "
      ]
     },
     "execution_count": 23,
     "metadata": {},
     "output_type": "execute_result"
    }
   ],
   "source": [
    "food.head(2)"
   ]
  },
  {
   "cell_type": "code",
   "execution_count": 18,
   "id": "f64926f3",
   "metadata": {},
   "outputs": [],
   "source": [
    "food_filt = (food['Date'] == '2022-05-25')"
   ]
  },
  {
   "cell_type": "code",
   "execution_count": 20,
   "id": "e83f9f2d",
   "metadata": {
    "scrolled": true
   },
   "outputs": [],
   "source": [
    "may25 = food.loc[food_filt]"
   ]
  },
  {
   "cell_type": "code",
   "execution_count": 21,
   "id": "421058a8",
   "metadata": {},
   "outputs": [
    {
     "data": {
      "text/html": [
       "<div>\n",
       "<style scoped>\n",
       "    .dataframe tbody tr th:only-of-type {\n",
       "        vertical-align: middle;\n",
       "    }\n",
       "\n",
       "    .dataframe tbody tr th {\n",
       "        vertical-align: top;\n",
       "    }\n",
       "\n",
       "    .dataframe thead th {\n",
       "        text-align: right;\n",
       "    }\n",
       "</style>\n",
       "<table border=\"1\" class=\"dataframe\">\n",
       "  <thead>\n",
       "    <tr style=\"text-align: right;\">\n",
       "      <th></th>\n",
       "      <th>Date</th>\n",
       "      <th>Name</th>\n",
       "      <th>Icon</th>\n",
       "      <th>Type</th>\n",
       "      <th>Quantity</th>\n",
       "      <th>Units</th>\n",
       "      <th>Calories</th>\n",
       "      <th>Deleted</th>\n",
       "      <th>Fat (g)</th>\n",
       "      <th>Protein (g)</th>\n",
       "      <th>Carbohydrates (g)</th>\n",
       "      <th>Saturated Fat (g)</th>\n",
       "      <th>Sugars (g)</th>\n",
       "      <th>Fiber (g)</th>\n",
       "      <th>Cholesterol (mg)</th>\n",
       "      <th>Sodium (mg)</th>\n",
       "      <th>DayOfWeek</th>\n",
       "    </tr>\n",
       "  </thead>\n",
       "  <tbody>\n",
       "    <tr>\n",
       "      <th>70</th>\n",
       "      <td>2022-05-25</td>\n",
       "      <td>Fuzzy Peach</td>\n",
       "      <td>Candy</td>\n",
       "      <td>Snacks</td>\n",
       "      <td>3.250</td>\n",
       "      <td>Grams</td>\n",
       "      <td>12</td>\n",
       "      <td>0</td>\n",
       "      <td>0.00</td>\n",
       "      <td>0.00</td>\n",
       "      <td>2.90</td>\n",
       "      <td>0.00</td>\n",
       "      <td>2.45</td>\n",
       "      <td>0.00</td>\n",
       "      <td>0.00</td>\n",
       "      <td>2.75</td>\n",
       "      <td>Wednesday</td>\n",
       "    </tr>\n",
       "    <tr>\n",
       "      <th>59</th>\n",
       "      <td>2022-05-25</td>\n",
       "      <td>Chicken Ham &amp; Swiss</td>\n",
       "      <td>Chicken</td>\n",
       "      <td>Lunch</td>\n",
       "      <td>1.000</td>\n",
       "      <td>Piece</td>\n",
       "      <td>290</td>\n",
       "      <td>0</td>\n",
       "      <td>12.00</td>\n",
       "      <td>24.00</td>\n",
       "      <td>21.00</td>\n",
       "      <td>3.00</td>\n",
       "      <td>1.00</td>\n",
       "      <td>1.00</td>\n",
       "      <td>60.00</td>\n",
       "      <td>510.00</td>\n",
       "      <td>Wednesday</td>\n",
       "    </tr>\n",
       "    <tr>\n",
       "      <th>58</th>\n",
       "      <td>2022-05-25</td>\n",
       "      <td>Bar, Chocolate Chip Chia</td>\n",
       "      <td>CerealBar</td>\n",
       "      <td>Breakfast</td>\n",
       "      <td>0.250</td>\n",
       "      <td>Serving</td>\n",
       "      <td>45</td>\n",
       "      <td>0</td>\n",
       "      <td>1.75</td>\n",
       "      <td>0.75</td>\n",
       "      <td>7.00</td>\n",
       "      <td>0.38</td>\n",
       "      <td>2.25</td>\n",
       "      <td>0.75</td>\n",
       "      <td>0.00</td>\n",
       "      <td>25.00</td>\n",
       "      <td>Wednesday</td>\n",
       "    </tr>\n",
       "    <tr>\n",
       "      <th>60</th>\n",
       "      <td>2022-05-25</td>\n",
       "      <td>Fries, Sweet Potato, Organic from Costco (15 p...</td>\n",
       "      <td>FrenchFries</td>\n",
       "      <td>Lunch</td>\n",
       "      <td>85.000</td>\n",
       "      <td>Grams</td>\n",
       "      <td>140</td>\n",
       "      <td>0</td>\n",
       "      <td>6.00</td>\n",
       "      <td>1.00</td>\n",
       "      <td>21.00</td>\n",
       "      <td>1.00</td>\n",
       "      <td>8.00</td>\n",
       "      <td>2.00</td>\n",
       "      <td>0.00</td>\n",
       "      <td>230.00</td>\n",
       "      <td>Wednesday</td>\n",
       "    </tr>\n",
       "    <tr>\n",
       "      <th>62</th>\n",
       "      <td>2022-05-25</td>\n",
       "      <td>Butter regular 2tsp Per Serv</td>\n",
       "      <td>Butter</td>\n",
       "      <td>Lunch</td>\n",
       "      <td>5.500</td>\n",
       "      <td>Grams</td>\n",
       "      <td>39</td>\n",
       "      <td>0</td>\n",
       "      <td>4.40</td>\n",
       "      <td>0.60</td>\n",
       "      <td>0.00</td>\n",
       "      <td>2.75</td>\n",
       "      <td>0.00</td>\n",
       "      <td>0.00</td>\n",
       "      <td>13.75</td>\n",
       "      <td>0.00</td>\n",
       "      <td>Wednesday</td>\n",
       "    </tr>\n",
       "    <tr>\n",
       "      <th>63</th>\n",
       "      <td>2022-05-25</td>\n",
       "      <td>Yam</td>\n",
       "      <td>Potato</td>\n",
       "      <td>Lunch</td>\n",
       "      <td>30.000</td>\n",
       "      <td>Grams</td>\n",
       "      <td>35</td>\n",
       "      <td>0</td>\n",
       "      <td>0.60</td>\n",
       "      <td>0.45</td>\n",
       "      <td>8.40</td>\n",
       "      <td>0.00</td>\n",
       "      <td>0.15</td>\n",
       "      <td>1.23</td>\n",
       "      <td>0.00</td>\n",
       "      <td>2.70</td>\n",
       "      <td>Wednesday</td>\n",
       "    </tr>\n",
       "    <tr>\n",
       "      <th>64</th>\n",
       "      <td>2022-05-25</td>\n",
       "      <td>Shrimp tempura</td>\n",
       "      <td>Shrimp</td>\n",
       "      <td>Lunch</td>\n",
       "      <td>1.000</td>\n",
       "      <td>Serving</td>\n",
       "      <td>150</td>\n",
       "      <td>0</td>\n",
       "      <td>11.00</td>\n",
       "      <td>8.00</td>\n",
       "      <td>21.00</td>\n",
       "      <td>3.25</td>\n",
       "      <td>6.00</td>\n",
       "      <td>1.00</td>\n",
       "      <td>55.00</td>\n",
       "      <td>450.00</td>\n",
       "      <td>Wednesday</td>\n",
       "    </tr>\n",
       "    <tr>\n",
       "      <th>61</th>\n",
       "      <td>2022-05-25</td>\n",
       "      <td>Vegetables, Mixed, Organic</td>\n",
       "      <td>Vegetable</td>\n",
       "      <td>Lunch</td>\n",
       "      <td>260.000</td>\n",
       "      <td>Grams</td>\n",
       "      <td>144</td>\n",
       "      <td>0</td>\n",
       "      <td>1.44</td>\n",
       "      <td>5.78</td>\n",
       "      <td>28.89</td>\n",
       "      <td>0.00</td>\n",
       "      <td>11.56</td>\n",
       "      <td>8.67</td>\n",
       "      <td>0.00</td>\n",
       "      <td>57.78</td>\n",
       "      <td>Wednesday</td>\n",
       "    </tr>\n",
       "    <tr>\n",
       "      <th>66</th>\n",
       "      <td>2022-05-25</td>\n",
       "      <td>Vegetables, Mixed, Organic</td>\n",
       "      <td>Vegetable</td>\n",
       "      <td>Dinner</td>\n",
       "      <td>130.000</td>\n",
       "      <td>Grams</td>\n",
       "      <td>72</td>\n",
       "      <td>0</td>\n",
       "      <td>0.72</td>\n",
       "      <td>2.89</td>\n",
       "      <td>14.44</td>\n",
       "      <td>0.00</td>\n",
       "      <td>5.78</td>\n",
       "      <td>4.33</td>\n",
       "      <td>0.00</td>\n",
       "      <td>28.89</td>\n",
       "      <td>Wednesday</td>\n",
       "    </tr>\n",
       "    <tr>\n",
       "      <th>67</th>\n",
       "      <td>2022-05-25</td>\n",
       "      <td>Erie Meats Chicken Nuggets</td>\n",
       "      <td>Chicken</td>\n",
       "      <td>Dinner</td>\n",
       "      <td>3.500</td>\n",
       "      <td>Servings</td>\n",
       "      <td>420</td>\n",
       "      <td>0</td>\n",
       "      <td>24.50</td>\n",
       "      <td>21.00</td>\n",
       "      <td>35.00</td>\n",
       "      <td>3.50</td>\n",
       "      <td>0.00</td>\n",
       "      <td>0.00</td>\n",
       "      <td>70.00</td>\n",
       "      <td>630.00</td>\n",
       "      <td>Wednesday</td>\n",
       "    </tr>\n",
       "    <tr>\n",
       "      <th>68</th>\n",
       "      <td>2022-05-25</td>\n",
       "      <td>Butter regular 2tsp Per Serv</td>\n",
       "      <td>Butter</td>\n",
       "      <td>Dinner</td>\n",
       "      <td>6.125</td>\n",
       "      <td>Grams</td>\n",
       "      <td>43</td>\n",
       "      <td>0</td>\n",
       "      <td>4.90</td>\n",
       "      <td>0.60</td>\n",
       "      <td>0.00</td>\n",
       "      <td>3.60</td>\n",
       "      <td>0.00</td>\n",
       "      <td>0.00</td>\n",
       "      <td>15.31</td>\n",
       "      <td>0.00</td>\n",
       "      <td>Wednesday</td>\n",
       "    </tr>\n",
       "    <tr>\n",
       "      <th>72</th>\n",
       "      <td>2022-05-25</td>\n",
       "      <td>Swiss Milk Chocolate With Whole Roasted Almonds</td>\n",
       "      <td>Chocolate</td>\n",
       "      <td>Snacks</td>\n",
       "      <td>2.000</td>\n",
       "      <td>Pieces</td>\n",
       "      <td>38</td>\n",
       "      <td>0</td>\n",
       "      <td>2.44</td>\n",
       "      <td>0.67</td>\n",
       "      <td>3.56</td>\n",
       "      <td>1.00</td>\n",
       "      <td>2.67</td>\n",
       "      <td>0.22</td>\n",
       "      <td>0.00</td>\n",
       "      <td>3.33</td>\n",
       "      <td>Wednesday</td>\n",
       "    </tr>\n",
       "    <tr>\n",
       "      <th>71</th>\n",
       "      <td>2022-05-25</td>\n",
       "      <td>Swiss Milk Chocolate With Whole Roasted Almonds</td>\n",
       "      <td>Chocolate</td>\n",
       "      <td>Snacks</td>\n",
       "      <td>2.000</td>\n",
       "      <td>Pieces</td>\n",
       "      <td>38</td>\n",
       "      <td>0</td>\n",
       "      <td>2.44</td>\n",
       "      <td>0.67</td>\n",
       "      <td>3.56</td>\n",
       "      <td>1.00</td>\n",
       "      <td>2.67</td>\n",
       "      <td>0.22</td>\n",
       "      <td>0.00</td>\n",
       "      <td>3.33</td>\n",
       "      <td>Wednesday</td>\n",
       "    </tr>\n",
       "    <tr>\n",
       "      <th>69</th>\n",
       "      <td>2022-05-25</td>\n",
       "      <td>Fries, Sweet Potato, Organic from Costco (15 p...</td>\n",
       "      <td>FrenchFries</td>\n",
       "      <td>Snacks</td>\n",
       "      <td>171.000</td>\n",
       "      <td>Grams</td>\n",
       "      <td>282</td>\n",
       "      <td>0</td>\n",
       "      <td>12.70</td>\n",
       "      <td>2.10</td>\n",
       "      <td>42.25</td>\n",
       "      <td>2.10</td>\n",
       "      <td>16.90</td>\n",
       "      <td>4.20</td>\n",
       "      <td>0.00</td>\n",
       "      <td>462.71</td>\n",
       "      <td>Wednesday</td>\n",
       "    </tr>\n",
       "    <tr>\n",
       "      <th>65</th>\n",
       "      <td>2022-05-25</td>\n",
       "      <td>Corn, Whole Kernel, Frozen</td>\n",
       "      <td>Corn</td>\n",
       "      <td>Dinner</td>\n",
       "      <td>0.333</td>\n",
       "      <td>Cup</td>\n",
       "      <td>53</td>\n",
       "      <td>0</td>\n",
       "      <td>0.67</td>\n",
       "      <td>1.33</td>\n",
       "      <td>11.32</td>\n",
       "      <td>0.00</td>\n",
       "      <td>0.67</td>\n",
       "      <td>1.33</td>\n",
       "      <td>11.32</td>\n",
       "      <td>0.00</td>\n",
       "      <td>Wednesday</td>\n",
       "    </tr>\n",
       "  </tbody>\n",
       "</table>\n",
       "</div>"
      ],
      "text/plain": [
       "         Date                                               Name         Icon  \\\n",
       "70 2022-05-25                                        Fuzzy Peach        Candy   \n",
       "59 2022-05-25                                Chicken Ham & Swiss      Chicken   \n",
       "58 2022-05-25                           Bar, Chocolate Chip Chia    CerealBar   \n",
       "60 2022-05-25  Fries, Sweet Potato, Organic from Costco (15 p...  FrenchFries   \n",
       "62 2022-05-25                       Butter regular 2tsp Per Serv       Butter   \n",
       "63 2022-05-25                                                Yam       Potato   \n",
       "64 2022-05-25                                     Shrimp tempura       Shrimp   \n",
       "61 2022-05-25                         Vegetables, Mixed, Organic    Vegetable   \n",
       "66 2022-05-25                         Vegetables, Mixed, Organic    Vegetable   \n",
       "67 2022-05-25                         Erie Meats Chicken Nuggets      Chicken   \n",
       "68 2022-05-25                       Butter regular 2tsp Per Serv       Butter   \n",
       "72 2022-05-25    Swiss Milk Chocolate With Whole Roasted Almonds    Chocolate   \n",
       "71 2022-05-25    Swiss Milk Chocolate With Whole Roasted Almonds    Chocolate   \n",
       "69 2022-05-25  Fries, Sweet Potato, Organic from Costco (15 p...  FrenchFries   \n",
       "65 2022-05-25                         Corn, Whole Kernel, Frozen         Corn   \n",
       "\n",
       "         Type  Quantity     Units Calories  Deleted  Fat (g)  Protein (g)  \\\n",
       "70     Snacks     3.250     Grams       12        0     0.00         0.00   \n",
       "59      Lunch     1.000     Piece      290        0    12.00        24.00   \n",
       "58  Breakfast     0.250   Serving       45        0     1.75         0.75   \n",
       "60      Lunch    85.000     Grams      140        0     6.00         1.00   \n",
       "62      Lunch     5.500     Grams       39        0     4.40         0.60   \n",
       "63      Lunch    30.000     Grams       35        0     0.60         0.45   \n",
       "64      Lunch     1.000   Serving      150        0    11.00         8.00   \n",
       "61      Lunch   260.000     Grams      144        0     1.44         5.78   \n",
       "66     Dinner   130.000     Grams       72        0     0.72         2.89   \n",
       "67     Dinner     3.500  Servings      420        0    24.50        21.00   \n",
       "68     Dinner     6.125     Grams       43        0     4.90         0.60   \n",
       "72     Snacks     2.000    Pieces       38        0     2.44         0.67   \n",
       "71     Snacks     2.000    Pieces       38        0     2.44         0.67   \n",
       "69     Snacks   171.000     Grams      282        0    12.70         2.10   \n",
       "65     Dinner     0.333       Cup       53        0     0.67         1.33   \n",
       "\n",
       "    Carbohydrates (g)  Saturated Fat (g)  Sugars (g)  Fiber (g)  \\\n",
       "70               2.90               0.00        2.45       0.00   \n",
       "59              21.00               3.00        1.00       1.00   \n",
       "58               7.00               0.38        2.25       0.75   \n",
       "60              21.00               1.00        8.00       2.00   \n",
       "62               0.00               2.75        0.00       0.00   \n",
       "63               8.40               0.00        0.15       1.23   \n",
       "64              21.00               3.25        6.00       1.00   \n",
       "61              28.89               0.00       11.56       8.67   \n",
       "66              14.44               0.00        5.78       4.33   \n",
       "67              35.00               3.50        0.00       0.00   \n",
       "68               0.00               3.60        0.00       0.00   \n",
       "72               3.56               1.00        2.67       0.22   \n",
       "71               3.56               1.00        2.67       0.22   \n",
       "69              42.25               2.10       16.90       4.20   \n",
       "65              11.32               0.00        0.67       1.33   \n",
       "\n",
       "    Cholesterol (mg)  Sodium (mg)  DayOfWeek  \n",
       "70              0.00         2.75  Wednesday  \n",
       "59             60.00       510.00  Wednesday  \n",
       "58              0.00        25.00  Wednesday  \n",
       "60              0.00       230.00  Wednesday  \n",
       "62             13.75         0.00  Wednesday  \n",
       "63              0.00         2.70  Wednesday  \n",
       "64             55.00       450.00  Wednesday  \n",
       "61              0.00        57.78  Wednesday  \n",
       "66              0.00        28.89  Wednesday  \n",
       "67             70.00       630.00  Wednesday  \n",
       "68             15.31         0.00  Wednesday  \n",
       "72              0.00         3.33  Wednesday  \n",
       "71              0.00         3.33  Wednesday  \n",
       "69              0.00       462.71  Wednesday  \n",
       "65             11.32         0.00  Wednesday  "
      ]
     },
     "execution_count": 21,
     "metadata": {},
     "output_type": "execute_result"
    }
   ],
   "source": [
    "may25"
   ]
  },
  {
   "cell_type": "code",
   "execution_count": 111,
   "id": "84787a0a",
   "metadata": {},
   "outputs": [],
   "source": [
    "food_daily = food.resample('D').sum()\n",
    "food_daily.reset_index(inplace=True)\n",
    "food_daily = food_daily.drop(['Quantity', 'Deleted', 'Cholesterol (mg)', 'Sodium (mg)', 'Carbohydrates (g)'], axis=1)"
   ]
  },
  {
   "cell_type": "code",
   "execution_count": 109,
   "id": "3c7c5403",
   "metadata": {},
   "outputs": [
    {
     "data": {
      "text/html": [
       "<div>\n",
       "<style scoped>\n",
       "    .dataframe tbody tr th:only-of-type {\n",
       "        vertical-align: middle;\n",
       "    }\n",
       "\n",
       "    .dataframe tbody tr th {\n",
       "        vertical-align: top;\n",
       "    }\n",
       "\n",
       "    .dataframe thead th {\n",
       "        text-align: right;\n",
       "    }\n",
       "</style>\n",
       "<table border=\"1\" class=\"dataframe\">\n",
       "  <thead>\n",
       "    <tr style=\"text-align: right;\">\n",
       "      <th></th>\n",
       "      <th>Date</th>\n",
       "      <th>Fat (g)</th>\n",
       "      <th>Protein (g)</th>\n",
       "      <th>Carbohydrates (g)</th>\n",
       "      <th>Saturated Fat (g)</th>\n",
       "      <th>Sugars (g)</th>\n",
       "      <th>Fiber (g)</th>\n",
       "    </tr>\n",
       "  </thead>\n",
       "  <tbody>\n",
       "    <tr>\n",
       "      <th>0</th>\n",
       "      <td>2022-05-25</td>\n",
       "      <td>85.56</td>\n",
       "      <td>69.84</td>\n",
       "      <td>220.32</td>\n",
       "      <td>21.58</td>\n",
       "      <td>60.10</td>\n",
       "      <td>24.95</td>\n",
       "    </tr>\n",
       "    <tr>\n",
       "      <th>1</th>\n",
       "      <td>2022-05-26</td>\n",
       "      <td>72.76</td>\n",
       "      <td>64.61</td>\n",
       "      <td>127.23</td>\n",
       "      <td>20.53</td>\n",
       "      <td>37.65</td>\n",
       "      <td>20.76</td>\n",
       "    </tr>\n",
       "  </tbody>\n",
       "</table>\n",
       "</div>"
      ],
      "text/plain": [
       "        Date  Fat (g)  Protein (g)  Carbohydrates (g)  Saturated Fat (g)  \\\n",
       "0 2022-05-25    85.56        69.84             220.32              21.58   \n",
       "1 2022-05-26    72.76        64.61             127.23              20.53   \n",
       "\n",
       "   Sugars (g)  Fiber (g)  \n",
       "0       60.10      24.95  \n",
       "1       37.65      20.76  "
      ]
     },
     "execution_count": 109,
     "metadata": {},
     "output_type": "execute_result"
    }
   ],
   "source": [
    "food_daily.head(2)"
   ]
  },
  {
   "cell_type": "code",
   "execution_count": 112,
   "id": "d54282fc",
   "metadata": {},
   "outputs": [
    {
     "data": {
      "application/vnd.plotly.v1+json": {
       "config": {
        "plotlyServerURL": "https://plot.ly"
       },
       "data": [
        {
         "hovertemplate": "variable=Fat (g)<br>Date=%{x|%B %d, %Y}<br>value=%{y}<extra></extra>",
         "legendgroup": "Fat (g)",
         "line": {
          "color": "#636efa",
          "dash": "solid"
         },
         "marker": {
          "symbol": "circle"
         },
         "mode": "lines",
         "name": "Fat (g)",
         "orientation": "v",
         "showlegend": true,
         "type": "scatter",
         "x": [
          "2022-05-25T00:00:00",
          "2022-05-26T00:00:00",
          "2022-05-27T00:00:00",
          "2022-05-28T00:00:00",
          "2022-05-29T00:00:00",
          "2022-05-30T00:00:00",
          "2022-05-31T00:00:00",
          "2022-06-01T00:00:00",
          "2022-06-02T00:00:00",
          "2022-06-03T00:00:00",
          "2022-06-04T00:00:00",
          "2022-06-05T00:00:00",
          "2022-06-06T00:00:00",
          "2022-06-07T00:00:00",
          "2022-06-08T00:00:00",
          "2022-06-09T00:00:00",
          "2022-06-10T00:00:00",
          "2022-06-11T00:00:00",
          "2022-06-12T00:00:00",
          "2022-06-13T00:00:00",
          "2022-06-14T00:00:00",
          "2022-06-15T00:00:00",
          "2022-06-16T00:00:00",
          "2022-06-17T00:00:00",
          "2022-06-18T00:00:00",
          "2022-06-19T00:00:00",
          "2022-06-20T00:00:00",
          "2022-06-21T00:00:00",
          "2022-06-22T00:00:00",
          "2022-06-23T00:00:00",
          "2022-06-24T00:00:00",
          "2022-06-25T00:00:00",
          "2022-06-26T00:00:00",
          "2022-06-27T00:00:00",
          "2022-06-28T00:00:00",
          "2022-06-29T00:00:00",
          "2022-06-30T00:00:00",
          "2022-07-01T00:00:00",
          "2022-07-02T00:00:00",
          "2022-07-03T00:00:00"
         ],
         "xaxis": "x",
         "y": [
          85.56,
          72.76,
          80.7,
          82.53,
          46.28,
          45.019999999999996,
          46.86,
          55.75,
          31.23,
          63.85,
          140.76,
          41.89,
          45.489999999999995,
          96.18,
          67.64,
          53.989999999999995,
          62.620000000000005,
          39,
          67.97,
          51,
          63.33,
          38.230000000000004,
          54.14,
          38.64,
          34.65,
          41.84,
          66.89,
          115.75,
          54.32,
          27.89,
          46.230000000000004,
          40.49,
          76.49,
          73.14,
          58.94,
          62.2,
          40.35,
          61.06,
          98.37,
          36.13
         ],
         "yaxis": "y"
        },
        {
         "hovertemplate": "variable=Protein (g)<br>Date=%{x|%B %d, %Y}<br>value=%{y}<extra></extra>",
         "legendgroup": "Protein (g)",
         "line": {
          "color": "#EF553B",
          "dash": "solid"
         },
         "marker": {
          "symbol": "circle"
         },
         "mode": "lines",
         "name": "Protein (g)",
         "orientation": "v",
         "showlegend": true,
         "type": "scatter",
         "x": [
          "2022-05-25T00:00:00",
          "2022-05-26T00:00:00",
          "2022-05-27T00:00:00",
          "2022-05-28T00:00:00",
          "2022-05-29T00:00:00",
          "2022-05-30T00:00:00",
          "2022-05-31T00:00:00",
          "2022-06-01T00:00:00",
          "2022-06-02T00:00:00",
          "2022-06-03T00:00:00",
          "2022-06-04T00:00:00",
          "2022-06-05T00:00:00",
          "2022-06-06T00:00:00",
          "2022-06-07T00:00:00",
          "2022-06-08T00:00:00",
          "2022-06-09T00:00:00",
          "2022-06-10T00:00:00",
          "2022-06-11T00:00:00",
          "2022-06-12T00:00:00",
          "2022-06-13T00:00:00",
          "2022-06-14T00:00:00",
          "2022-06-15T00:00:00",
          "2022-06-16T00:00:00",
          "2022-06-17T00:00:00",
          "2022-06-18T00:00:00",
          "2022-06-19T00:00:00",
          "2022-06-20T00:00:00",
          "2022-06-21T00:00:00",
          "2022-06-22T00:00:00",
          "2022-06-23T00:00:00",
          "2022-06-24T00:00:00",
          "2022-06-25T00:00:00",
          "2022-06-26T00:00:00",
          "2022-06-27T00:00:00",
          "2022-06-28T00:00:00",
          "2022-06-29T00:00:00",
          "2022-06-30T00:00:00",
          "2022-07-01T00:00:00",
          "2022-07-02T00:00:00",
          "2022-07-03T00:00:00"
         ],
         "xaxis": "x",
         "y": [
          69.84,
          64.61,
          71.67,
          94.77,
          64.41,
          58.49,
          60.9,
          63.29,
          67.74,
          103.65,
          115.82,
          55.51,
          44.36,
          96.03,
          93.2,
          40.65,
          59.9,
          56.72,
          70.49,
          32.08,
          70.71,
          69.88,
          98.47999999999999,
          67.38,
          127.67,
          71.78,
          99.09,
          88.94,
          101.38,
          55.14,
          96.72,
          71.16,
          98.8,
          74.17,
          85.14,
          43.98,
          77.97,
          99.28999999999999,
          165.24,
          77.02999999999999
         ],
         "yaxis": "y"
        },
        {
         "hovertemplate": "variable=Saturated Fat (g)<br>Date=%{x|%B %d, %Y}<br>value=%{y}<extra></extra>",
         "legendgroup": "Saturated Fat (g)",
         "line": {
          "color": "#00cc96",
          "dash": "solid"
         },
         "marker": {
          "symbol": "circle"
         },
         "mode": "lines",
         "name": "Saturated Fat (g)",
         "orientation": "v",
         "showlegend": true,
         "type": "scatter",
         "x": [
          "2022-05-25T00:00:00",
          "2022-05-26T00:00:00",
          "2022-05-27T00:00:00",
          "2022-05-28T00:00:00",
          "2022-05-29T00:00:00",
          "2022-05-30T00:00:00",
          "2022-05-31T00:00:00",
          "2022-06-01T00:00:00",
          "2022-06-02T00:00:00",
          "2022-06-03T00:00:00",
          "2022-06-04T00:00:00",
          "2022-06-05T00:00:00",
          "2022-06-06T00:00:00",
          "2022-06-07T00:00:00",
          "2022-06-08T00:00:00",
          "2022-06-09T00:00:00",
          "2022-06-10T00:00:00",
          "2022-06-11T00:00:00",
          "2022-06-12T00:00:00",
          "2022-06-13T00:00:00",
          "2022-06-14T00:00:00",
          "2022-06-15T00:00:00",
          "2022-06-16T00:00:00",
          "2022-06-17T00:00:00",
          "2022-06-18T00:00:00",
          "2022-06-19T00:00:00",
          "2022-06-20T00:00:00",
          "2022-06-21T00:00:00",
          "2022-06-22T00:00:00",
          "2022-06-23T00:00:00",
          "2022-06-24T00:00:00",
          "2022-06-25T00:00:00",
          "2022-06-26T00:00:00",
          "2022-06-27T00:00:00",
          "2022-06-28T00:00:00",
          "2022-06-29T00:00:00",
          "2022-06-30T00:00:00",
          "2022-07-01T00:00:00",
          "2022-07-02T00:00:00",
          "2022-07-03T00:00:00"
         ],
         "xaxis": "x",
         "y": [
          21.58,
          20.53,
          20.740000000000002,
          30.25,
          18.67,
          15,
          17.28,
          21.07,
          4.82,
          21.34,
          47.95,
          11.1,
          22.990000000000002,
          33.019999999999996,
          31.46,
          21.48,
          15.95,
          10.64,
          24.97,
          9.2,
          24.91,
          16.83,
          14.61,
          15.16,
          10.17,
          16.93,
          19.17,
          27.05,
          14.379999999999999,
          6.88,
          15.02,
          9.07,
          28.44,
          30.1,
          19.97,
          29.1,
          15.16,
          22.54,
          32.99,
          11.98
         ],
         "yaxis": "y"
        },
        {
         "hovertemplate": "variable=Sugars (g)<br>Date=%{x|%B %d, %Y}<br>value=%{y}<extra></extra>",
         "legendgroup": "Sugars (g)",
         "line": {
          "color": "#ab63fa",
          "dash": "solid"
         },
         "marker": {
          "symbol": "circle"
         },
         "mode": "lines",
         "name": "Sugars (g)",
         "orientation": "v",
         "showlegend": true,
         "type": "scatter",
         "x": [
          "2022-05-25T00:00:00",
          "2022-05-26T00:00:00",
          "2022-05-27T00:00:00",
          "2022-05-28T00:00:00",
          "2022-05-29T00:00:00",
          "2022-05-30T00:00:00",
          "2022-05-31T00:00:00",
          "2022-06-01T00:00:00",
          "2022-06-02T00:00:00",
          "2022-06-03T00:00:00",
          "2022-06-04T00:00:00",
          "2022-06-05T00:00:00",
          "2022-06-06T00:00:00",
          "2022-06-07T00:00:00",
          "2022-06-08T00:00:00",
          "2022-06-09T00:00:00",
          "2022-06-10T00:00:00",
          "2022-06-11T00:00:00",
          "2022-06-12T00:00:00",
          "2022-06-13T00:00:00",
          "2022-06-14T00:00:00",
          "2022-06-15T00:00:00",
          "2022-06-16T00:00:00",
          "2022-06-17T00:00:00",
          "2022-06-18T00:00:00",
          "2022-06-19T00:00:00",
          "2022-06-20T00:00:00",
          "2022-06-21T00:00:00",
          "2022-06-22T00:00:00",
          "2022-06-23T00:00:00",
          "2022-06-24T00:00:00",
          "2022-06-25T00:00:00",
          "2022-06-26T00:00:00",
          "2022-06-27T00:00:00",
          "2022-06-28T00:00:00",
          "2022-06-29T00:00:00",
          "2022-06-30T00:00:00",
          "2022-07-01T00:00:00",
          "2022-07-02T00:00:00",
          "2022-07-03T00:00:00"
         ],
         "xaxis": "x",
         "y": [
          60.1,
          37.65,
          56.24,
          32,
          26.009999999999998,
          50.06,
          58.94,
          29.33,
          63.8,
          36.91,
          41.2,
          72.13,
          60.44,
          50.92,
          84.28999999999999,
          42.6,
          53.3,
          67.06,
          78.44,
          91.35,
          60.94,
          55.7,
          38.48,
          104.66,
          39.730000000000004,
          37.28,
          122.36,
          61.78,
          37.08,
          56.95,
          52.96,
          27.41,
          50.69,
          106.86,
          114.67,
          56.49,
          101.25999999999999,
          22.41,
          68.94,
          37.72
         ],
         "yaxis": "y"
        },
        {
         "hovertemplate": "variable=Fiber (g)<br>Date=%{x|%B %d, %Y}<br>value=%{y}<extra></extra>",
         "legendgroup": "Fiber (g)",
         "line": {
          "color": "#FFA15A",
          "dash": "solid"
         },
         "marker": {
          "symbol": "circle"
         },
         "mode": "lines",
         "name": "Fiber (g)",
         "orientation": "v",
         "showlegend": true,
         "type": "scatter",
         "x": [
          "2022-05-25T00:00:00",
          "2022-05-26T00:00:00",
          "2022-05-27T00:00:00",
          "2022-05-28T00:00:00",
          "2022-05-29T00:00:00",
          "2022-05-30T00:00:00",
          "2022-05-31T00:00:00",
          "2022-06-01T00:00:00",
          "2022-06-02T00:00:00",
          "2022-06-03T00:00:00",
          "2022-06-04T00:00:00",
          "2022-06-05T00:00:00",
          "2022-06-06T00:00:00",
          "2022-06-07T00:00:00",
          "2022-06-08T00:00:00",
          "2022-06-09T00:00:00",
          "2022-06-10T00:00:00",
          "2022-06-11T00:00:00",
          "2022-06-12T00:00:00",
          "2022-06-13T00:00:00",
          "2022-06-14T00:00:00",
          "2022-06-15T00:00:00",
          "2022-06-16T00:00:00",
          "2022-06-17T00:00:00",
          "2022-06-18T00:00:00",
          "2022-06-19T00:00:00",
          "2022-06-20T00:00:00",
          "2022-06-21T00:00:00",
          "2022-06-22T00:00:00",
          "2022-06-23T00:00:00",
          "2022-06-24T00:00:00",
          "2022-06-25T00:00:00",
          "2022-06-26T00:00:00",
          "2022-06-27T00:00:00",
          "2022-06-28T00:00:00",
          "2022-06-29T00:00:00",
          "2022-06-30T00:00:00",
          "2022-07-01T00:00:00",
          "2022-07-02T00:00:00",
          "2022-07-03T00:00:00"
         ],
         "xaxis": "x",
         "y": [
          24.950000000000003,
          20.759999999999998,
          33.37,
          21.82,
          28.18,
          33.97,
          28.86,
          6.58,
          34.97,
          28.86,
          14.49,
          37.339999999999996,
          32.31,
          23.18,
          25.990000000000002,
          35.51,
          32.82,
          22.169999999999998,
          29.79,
          29.34,
          26.22,
          28.26,
          28.34,
          31.4,
          29.830000000000002,
          14.32,
          61.58,
          25.44,
          35.08,
          31.72,
          36.07,
          10.08,
          6.01,
          33.769999999999996,
          35.120000000000005,
          3.98,
          39.26,
          34.86,
          40.78,
          39.75
         ],
         "yaxis": "y"
        }
       ],
       "layout": {
        "legend": {
         "title": {
          "text": "variable"
         },
         "tracegroupgap": 0
        },
        "template": {
         "data": {
          "bar": [
           {
            "error_x": {
             "color": "#2a3f5f"
            },
            "error_y": {
             "color": "#2a3f5f"
            },
            "marker": {
             "line": {
              "color": "#E5ECF6",
              "width": 0.5
             },
             "pattern": {
              "fillmode": "overlay",
              "size": 10,
              "solidity": 0.2
             }
            },
            "type": "bar"
           }
          ],
          "barpolar": [
           {
            "marker": {
             "line": {
              "color": "#E5ECF6",
              "width": 0.5
             },
             "pattern": {
              "fillmode": "overlay",
              "size": 10,
              "solidity": 0.2
             }
            },
            "type": "barpolar"
           }
          ],
          "carpet": [
           {
            "aaxis": {
             "endlinecolor": "#2a3f5f",
             "gridcolor": "white",
             "linecolor": "white",
             "minorgridcolor": "white",
             "startlinecolor": "#2a3f5f"
            },
            "baxis": {
             "endlinecolor": "#2a3f5f",
             "gridcolor": "white",
             "linecolor": "white",
             "minorgridcolor": "white",
             "startlinecolor": "#2a3f5f"
            },
            "type": "carpet"
           }
          ],
          "choropleth": [
           {
            "colorbar": {
             "outlinewidth": 0,
             "ticks": ""
            },
            "type": "choropleth"
           }
          ],
          "contour": [
           {
            "colorbar": {
             "outlinewidth": 0,
             "ticks": ""
            },
            "colorscale": [
             [
              0,
              "#0d0887"
             ],
             [
              0.1111111111111111,
              "#46039f"
             ],
             [
              0.2222222222222222,
              "#7201a8"
             ],
             [
              0.3333333333333333,
              "#9c179e"
             ],
             [
              0.4444444444444444,
              "#bd3786"
             ],
             [
              0.5555555555555556,
              "#d8576b"
             ],
             [
              0.6666666666666666,
              "#ed7953"
             ],
             [
              0.7777777777777778,
              "#fb9f3a"
             ],
             [
              0.8888888888888888,
              "#fdca26"
             ],
             [
              1,
              "#f0f921"
             ]
            ],
            "type": "contour"
           }
          ],
          "contourcarpet": [
           {
            "colorbar": {
             "outlinewidth": 0,
             "ticks": ""
            },
            "type": "contourcarpet"
           }
          ],
          "heatmap": [
           {
            "colorbar": {
             "outlinewidth": 0,
             "ticks": ""
            },
            "colorscale": [
             [
              0,
              "#0d0887"
             ],
             [
              0.1111111111111111,
              "#46039f"
             ],
             [
              0.2222222222222222,
              "#7201a8"
             ],
             [
              0.3333333333333333,
              "#9c179e"
             ],
             [
              0.4444444444444444,
              "#bd3786"
             ],
             [
              0.5555555555555556,
              "#d8576b"
             ],
             [
              0.6666666666666666,
              "#ed7953"
             ],
             [
              0.7777777777777778,
              "#fb9f3a"
             ],
             [
              0.8888888888888888,
              "#fdca26"
             ],
             [
              1,
              "#f0f921"
             ]
            ],
            "type": "heatmap"
           }
          ],
          "heatmapgl": [
           {
            "colorbar": {
             "outlinewidth": 0,
             "ticks": ""
            },
            "colorscale": [
             [
              0,
              "#0d0887"
             ],
             [
              0.1111111111111111,
              "#46039f"
             ],
             [
              0.2222222222222222,
              "#7201a8"
             ],
             [
              0.3333333333333333,
              "#9c179e"
             ],
             [
              0.4444444444444444,
              "#bd3786"
             ],
             [
              0.5555555555555556,
              "#d8576b"
             ],
             [
              0.6666666666666666,
              "#ed7953"
             ],
             [
              0.7777777777777778,
              "#fb9f3a"
             ],
             [
              0.8888888888888888,
              "#fdca26"
             ],
             [
              1,
              "#f0f921"
             ]
            ],
            "type": "heatmapgl"
           }
          ],
          "histogram": [
           {
            "marker": {
             "pattern": {
              "fillmode": "overlay",
              "size": 10,
              "solidity": 0.2
             }
            },
            "type": "histogram"
           }
          ],
          "histogram2d": [
           {
            "colorbar": {
             "outlinewidth": 0,
             "ticks": ""
            },
            "colorscale": [
             [
              0,
              "#0d0887"
             ],
             [
              0.1111111111111111,
              "#46039f"
             ],
             [
              0.2222222222222222,
              "#7201a8"
             ],
             [
              0.3333333333333333,
              "#9c179e"
             ],
             [
              0.4444444444444444,
              "#bd3786"
             ],
             [
              0.5555555555555556,
              "#d8576b"
             ],
             [
              0.6666666666666666,
              "#ed7953"
             ],
             [
              0.7777777777777778,
              "#fb9f3a"
             ],
             [
              0.8888888888888888,
              "#fdca26"
             ],
             [
              1,
              "#f0f921"
             ]
            ],
            "type": "histogram2d"
           }
          ],
          "histogram2dcontour": [
           {
            "colorbar": {
             "outlinewidth": 0,
             "ticks": ""
            },
            "colorscale": [
             [
              0,
              "#0d0887"
             ],
             [
              0.1111111111111111,
              "#46039f"
             ],
             [
              0.2222222222222222,
              "#7201a8"
             ],
             [
              0.3333333333333333,
              "#9c179e"
             ],
             [
              0.4444444444444444,
              "#bd3786"
             ],
             [
              0.5555555555555556,
              "#d8576b"
             ],
             [
              0.6666666666666666,
              "#ed7953"
             ],
             [
              0.7777777777777778,
              "#fb9f3a"
             ],
             [
              0.8888888888888888,
              "#fdca26"
             ],
             [
              1,
              "#f0f921"
             ]
            ],
            "type": "histogram2dcontour"
           }
          ],
          "mesh3d": [
           {
            "colorbar": {
             "outlinewidth": 0,
             "ticks": ""
            },
            "type": "mesh3d"
           }
          ],
          "parcoords": [
           {
            "line": {
             "colorbar": {
              "outlinewidth": 0,
              "ticks": ""
             }
            },
            "type": "parcoords"
           }
          ],
          "pie": [
           {
            "automargin": true,
            "type": "pie"
           }
          ],
          "scatter": [
           {
            "fillpattern": {
             "fillmode": "overlay",
             "size": 10,
             "solidity": 0.2
            },
            "type": "scatter"
           }
          ],
          "scatter3d": [
           {
            "line": {
             "colorbar": {
              "outlinewidth": 0,
              "ticks": ""
             }
            },
            "marker": {
             "colorbar": {
              "outlinewidth": 0,
              "ticks": ""
             }
            },
            "type": "scatter3d"
           }
          ],
          "scattercarpet": [
           {
            "marker": {
             "colorbar": {
              "outlinewidth": 0,
              "ticks": ""
             }
            },
            "type": "scattercarpet"
           }
          ],
          "scattergeo": [
           {
            "marker": {
             "colorbar": {
              "outlinewidth": 0,
              "ticks": ""
             }
            },
            "type": "scattergeo"
           }
          ],
          "scattergl": [
           {
            "marker": {
             "colorbar": {
              "outlinewidth": 0,
              "ticks": ""
             }
            },
            "type": "scattergl"
           }
          ],
          "scattermapbox": [
           {
            "marker": {
             "colorbar": {
              "outlinewidth": 0,
              "ticks": ""
             }
            },
            "type": "scattermapbox"
           }
          ],
          "scatterpolar": [
           {
            "marker": {
             "colorbar": {
              "outlinewidth": 0,
              "ticks": ""
             }
            },
            "type": "scatterpolar"
           }
          ],
          "scatterpolargl": [
           {
            "marker": {
             "colorbar": {
              "outlinewidth": 0,
              "ticks": ""
             }
            },
            "type": "scatterpolargl"
           }
          ],
          "scatterternary": [
           {
            "marker": {
             "colorbar": {
              "outlinewidth": 0,
              "ticks": ""
             }
            },
            "type": "scatterternary"
           }
          ],
          "surface": [
           {
            "colorbar": {
             "outlinewidth": 0,
             "ticks": ""
            },
            "colorscale": [
             [
              0,
              "#0d0887"
             ],
             [
              0.1111111111111111,
              "#46039f"
             ],
             [
              0.2222222222222222,
              "#7201a8"
             ],
             [
              0.3333333333333333,
              "#9c179e"
             ],
             [
              0.4444444444444444,
              "#bd3786"
             ],
             [
              0.5555555555555556,
              "#d8576b"
             ],
             [
              0.6666666666666666,
              "#ed7953"
             ],
             [
              0.7777777777777778,
              "#fb9f3a"
             ],
             [
              0.8888888888888888,
              "#fdca26"
             ],
             [
              1,
              "#f0f921"
             ]
            ],
            "type": "surface"
           }
          ],
          "table": [
           {
            "cells": {
             "fill": {
              "color": "#EBF0F8"
             },
             "line": {
              "color": "white"
             }
            },
            "header": {
             "fill": {
              "color": "#C8D4E3"
             },
             "line": {
              "color": "white"
             }
            },
            "type": "table"
           }
          ]
         },
         "layout": {
          "annotationdefaults": {
           "arrowcolor": "#2a3f5f",
           "arrowhead": 0,
           "arrowwidth": 1
          },
          "autotypenumbers": "strict",
          "coloraxis": {
           "colorbar": {
            "outlinewidth": 0,
            "ticks": ""
           }
          },
          "colorscale": {
           "diverging": [
            [
             0,
             "#8e0152"
            ],
            [
             0.1,
             "#c51b7d"
            ],
            [
             0.2,
             "#de77ae"
            ],
            [
             0.3,
             "#f1b6da"
            ],
            [
             0.4,
             "#fde0ef"
            ],
            [
             0.5,
             "#f7f7f7"
            ],
            [
             0.6,
             "#e6f5d0"
            ],
            [
             0.7,
             "#b8e186"
            ],
            [
             0.8,
             "#7fbc41"
            ],
            [
             0.9,
             "#4d9221"
            ],
            [
             1,
             "#276419"
            ]
           ],
           "sequential": [
            [
             0,
             "#0d0887"
            ],
            [
             0.1111111111111111,
             "#46039f"
            ],
            [
             0.2222222222222222,
             "#7201a8"
            ],
            [
             0.3333333333333333,
             "#9c179e"
            ],
            [
             0.4444444444444444,
             "#bd3786"
            ],
            [
             0.5555555555555556,
             "#d8576b"
            ],
            [
             0.6666666666666666,
             "#ed7953"
            ],
            [
             0.7777777777777778,
             "#fb9f3a"
            ],
            [
             0.8888888888888888,
             "#fdca26"
            ],
            [
             1,
             "#f0f921"
            ]
           ],
           "sequentialminus": [
            [
             0,
             "#0d0887"
            ],
            [
             0.1111111111111111,
             "#46039f"
            ],
            [
             0.2222222222222222,
             "#7201a8"
            ],
            [
             0.3333333333333333,
             "#9c179e"
            ],
            [
             0.4444444444444444,
             "#bd3786"
            ],
            [
             0.5555555555555556,
             "#d8576b"
            ],
            [
             0.6666666666666666,
             "#ed7953"
            ],
            [
             0.7777777777777778,
             "#fb9f3a"
            ],
            [
             0.8888888888888888,
             "#fdca26"
            ],
            [
             1,
             "#f0f921"
            ]
           ]
          },
          "colorway": [
           "#636efa",
           "#EF553B",
           "#00cc96",
           "#ab63fa",
           "#FFA15A",
           "#19d3f3",
           "#FF6692",
           "#B6E880",
           "#FF97FF",
           "#FECB52"
          ],
          "font": {
           "color": "#2a3f5f"
          },
          "geo": {
           "bgcolor": "white",
           "lakecolor": "white",
           "landcolor": "#E5ECF6",
           "showlakes": true,
           "showland": true,
           "subunitcolor": "white"
          },
          "hoverlabel": {
           "align": "left"
          },
          "hovermode": "closest",
          "mapbox": {
           "style": "light"
          },
          "paper_bgcolor": "white",
          "plot_bgcolor": "#E5ECF6",
          "polar": {
           "angularaxis": {
            "gridcolor": "white",
            "linecolor": "white",
            "ticks": ""
           },
           "bgcolor": "#E5ECF6",
           "radialaxis": {
            "gridcolor": "white",
            "linecolor": "white",
            "ticks": ""
           }
          },
          "scene": {
           "xaxis": {
            "backgroundcolor": "#E5ECF6",
            "gridcolor": "white",
            "gridwidth": 2,
            "linecolor": "white",
            "showbackground": true,
            "ticks": "",
            "zerolinecolor": "white"
           },
           "yaxis": {
            "backgroundcolor": "#E5ECF6",
            "gridcolor": "white",
            "gridwidth": 2,
            "linecolor": "white",
            "showbackground": true,
            "ticks": "",
            "zerolinecolor": "white"
           },
           "zaxis": {
            "backgroundcolor": "#E5ECF6",
            "gridcolor": "white",
            "gridwidth": 2,
            "linecolor": "white",
            "showbackground": true,
            "ticks": "",
            "zerolinecolor": "white"
           }
          },
          "shapedefaults": {
           "line": {
            "color": "#2a3f5f"
           }
          },
          "ternary": {
           "aaxis": {
            "gridcolor": "white",
            "linecolor": "white",
            "ticks": ""
           },
           "baxis": {
            "gridcolor": "white",
            "linecolor": "white",
            "ticks": ""
           },
           "bgcolor": "#E5ECF6",
           "caxis": {
            "gridcolor": "white",
            "linecolor": "white",
            "ticks": ""
           }
          },
          "title": {
           "x": 0.05
          },
          "xaxis": {
           "automargin": true,
           "gridcolor": "white",
           "linecolor": "white",
           "ticks": "",
           "title": {
            "standoff": 15
           },
           "zerolinecolor": "white",
           "zerolinewidth": 2
          },
          "yaxis": {
           "automargin": true,
           "gridcolor": "white",
           "linecolor": "white",
           "ticks": "",
           "title": {
            "standoff": 15
           },
           "zerolinecolor": "white",
           "zerolinewidth": 2
          }
         }
        },
        "title": {
         "text": "custom tick labels with ticklabelmode=\"period\""
        },
        "xaxis": {
         "anchor": "y",
         "domain": [
          0,
          1
         ],
         "dtick": "M1",
         "tickformat": "%b\n%Y",
         "ticklabelmode": "period",
         "title": {
          "text": "Date"
         }
        },
        "yaxis": {
         "anchor": "x",
         "domain": [
          0,
          1
         ],
         "title": {
          "text": "value"
         }
        }
       }
      },
      "text/html": [
       "<div>                            <div id=\"e47e47a1-9d0f-48c1-90c3-40b08f0b2899\" class=\"plotly-graph-div\" style=\"height:525px; width:100%;\"></div>            <script type=\"text/javascript\">                require([\"plotly\"], function(Plotly) {                    window.PLOTLYENV=window.PLOTLYENV || {};                                    if (document.getElementById(\"e47e47a1-9d0f-48c1-90c3-40b08f0b2899\")) {                    Plotly.newPlot(                        \"e47e47a1-9d0f-48c1-90c3-40b08f0b2899\",                        [{\"hovertemplate\":\"variable=Fat (g)<br>Date=%{x|%B %d, %Y}<br>value=%{y}<extra></extra>\",\"legendgroup\":\"Fat (g)\",\"line\":{\"color\":\"#636efa\",\"dash\":\"solid\"},\"marker\":{\"symbol\":\"circle\"},\"mode\":\"lines\",\"name\":\"Fat (g)\",\"orientation\":\"v\",\"showlegend\":true,\"x\":[\"2022-05-25T00:00:00\",\"2022-05-26T00:00:00\",\"2022-05-27T00:00:00\",\"2022-05-28T00:00:00\",\"2022-05-29T00:00:00\",\"2022-05-30T00:00:00\",\"2022-05-31T00:00:00\",\"2022-06-01T00:00:00\",\"2022-06-02T00:00:00\",\"2022-06-03T00:00:00\",\"2022-06-04T00:00:00\",\"2022-06-05T00:00:00\",\"2022-06-06T00:00:00\",\"2022-06-07T00:00:00\",\"2022-06-08T00:00:00\",\"2022-06-09T00:00:00\",\"2022-06-10T00:00:00\",\"2022-06-11T00:00:00\",\"2022-06-12T00:00:00\",\"2022-06-13T00:00:00\",\"2022-06-14T00:00:00\",\"2022-06-15T00:00:00\",\"2022-06-16T00:00:00\",\"2022-06-17T00:00:00\",\"2022-06-18T00:00:00\",\"2022-06-19T00:00:00\",\"2022-06-20T00:00:00\",\"2022-06-21T00:00:00\",\"2022-06-22T00:00:00\",\"2022-06-23T00:00:00\",\"2022-06-24T00:00:00\",\"2022-06-25T00:00:00\",\"2022-06-26T00:00:00\",\"2022-06-27T00:00:00\",\"2022-06-28T00:00:00\",\"2022-06-29T00:00:00\",\"2022-06-30T00:00:00\",\"2022-07-01T00:00:00\",\"2022-07-02T00:00:00\",\"2022-07-03T00:00:00\"],\"xaxis\":\"x\",\"y\":[85.56,72.76,80.7,82.53,46.28,45.019999999999996,46.86,55.75,31.23,63.85,140.76,41.89,45.489999999999995,96.18,67.64,53.989999999999995,62.620000000000005,39.0,67.97,51.0,63.33,38.230000000000004,54.14,38.64,34.65,41.84,66.89,115.75,54.32,27.89,46.230000000000004,40.49,76.49,73.14,58.94,62.2,40.35,61.06,98.37,36.13],\"yaxis\":\"y\",\"type\":\"scatter\"},{\"hovertemplate\":\"variable=Protein (g)<br>Date=%{x|%B %d, %Y}<br>value=%{y}<extra></extra>\",\"legendgroup\":\"Protein (g)\",\"line\":{\"color\":\"#EF553B\",\"dash\":\"solid\"},\"marker\":{\"symbol\":\"circle\"},\"mode\":\"lines\",\"name\":\"Protein (g)\",\"orientation\":\"v\",\"showlegend\":true,\"x\":[\"2022-05-25T00:00:00\",\"2022-05-26T00:00:00\",\"2022-05-27T00:00:00\",\"2022-05-28T00:00:00\",\"2022-05-29T00:00:00\",\"2022-05-30T00:00:00\",\"2022-05-31T00:00:00\",\"2022-06-01T00:00:00\",\"2022-06-02T00:00:00\",\"2022-06-03T00:00:00\",\"2022-06-04T00:00:00\",\"2022-06-05T00:00:00\",\"2022-06-06T00:00:00\",\"2022-06-07T00:00:00\",\"2022-06-08T00:00:00\",\"2022-06-09T00:00:00\",\"2022-06-10T00:00:00\",\"2022-06-11T00:00:00\",\"2022-06-12T00:00:00\",\"2022-06-13T00:00:00\",\"2022-06-14T00:00:00\",\"2022-06-15T00:00:00\",\"2022-06-16T00:00:00\",\"2022-06-17T00:00:00\",\"2022-06-18T00:00:00\",\"2022-06-19T00:00:00\",\"2022-06-20T00:00:00\",\"2022-06-21T00:00:00\",\"2022-06-22T00:00:00\",\"2022-06-23T00:00:00\",\"2022-06-24T00:00:00\",\"2022-06-25T00:00:00\",\"2022-06-26T00:00:00\",\"2022-06-27T00:00:00\",\"2022-06-28T00:00:00\",\"2022-06-29T00:00:00\",\"2022-06-30T00:00:00\",\"2022-07-01T00:00:00\",\"2022-07-02T00:00:00\",\"2022-07-03T00:00:00\"],\"xaxis\":\"x\",\"y\":[69.84,64.61,71.67,94.77,64.41,58.49,60.9,63.29,67.74,103.65,115.82,55.51,44.36,96.03,93.2,40.65,59.9,56.72,70.49,32.08,70.71,69.88,98.47999999999999,67.38,127.67,71.78,99.09,88.94,101.38,55.14,96.72,71.16,98.8,74.17,85.14,43.98,77.97,99.28999999999999,165.24,77.02999999999999],\"yaxis\":\"y\",\"type\":\"scatter\"},{\"hovertemplate\":\"variable=Saturated Fat (g)<br>Date=%{x|%B %d, %Y}<br>value=%{y}<extra></extra>\",\"legendgroup\":\"Saturated Fat (g)\",\"line\":{\"color\":\"#00cc96\",\"dash\":\"solid\"},\"marker\":{\"symbol\":\"circle\"},\"mode\":\"lines\",\"name\":\"Saturated Fat (g)\",\"orientation\":\"v\",\"showlegend\":true,\"x\":[\"2022-05-25T00:00:00\",\"2022-05-26T00:00:00\",\"2022-05-27T00:00:00\",\"2022-05-28T00:00:00\",\"2022-05-29T00:00:00\",\"2022-05-30T00:00:00\",\"2022-05-31T00:00:00\",\"2022-06-01T00:00:00\",\"2022-06-02T00:00:00\",\"2022-06-03T00:00:00\",\"2022-06-04T00:00:00\",\"2022-06-05T00:00:00\",\"2022-06-06T00:00:00\",\"2022-06-07T00:00:00\",\"2022-06-08T00:00:00\",\"2022-06-09T00:00:00\",\"2022-06-10T00:00:00\",\"2022-06-11T00:00:00\",\"2022-06-12T00:00:00\",\"2022-06-13T00:00:00\",\"2022-06-14T00:00:00\",\"2022-06-15T00:00:00\",\"2022-06-16T00:00:00\",\"2022-06-17T00:00:00\",\"2022-06-18T00:00:00\",\"2022-06-19T00:00:00\",\"2022-06-20T00:00:00\",\"2022-06-21T00:00:00\",\"2022-06-22T00:00:00\",\"2022-06-23T00:00:00\",\"2022-06-24T00:00:00\",\"2022-06-25T00:00:00\",\"2022-06-26T00:00:00\",\"2022-06-27T00:00:00\",\"2022-06-28T00:00:00\",\"2022-06-29T00:00:00\",\"2022-06-30T00:00:00\",\"2022-07-01T00:00:00\",\"2022-07-02T00:00:00\",\"2022-07-03T00:00:00\"],\"xaxis\":\"x\",\"y\":[21.58,20.53,20.740000000000002,30.25,18.67,15.0,17.28,21.07,4.82,21.34,47.95,11.1,22.990000000000002,33.019999999999996,31.46,21.48,15.95,10.64,24.97,9.2,24.91,16.83,14.61,15.16,10.17,16.93,19.17,27.05,14.379999999999999,6.88,15.02,9.07,28.44,30.1,19.97,29.1,15.16,22.54,32.99,11.98],\"yaxis\":\"y\",\"type\":\"scatter\"},{\"hovertemplate\":\"variable=Sugars (g)<br>Date=%{x|%B %d, %Y}<br>value=%{y}<extra></extra>\",\"legendgroup\":\"Sugars (g)\",\"line\":{\"color\":\"#ab63fa\",\"dash\":\"solid\"},\"marker\":{\"symbol\":\"circle\"},\"mode\":\"lines\",\"name\":\"Sugars (g)\",\"orientation\":\"v\",\"showlegend\":true,\"x\":[\"2022-05-25T00:00:00\",\"2022-05-26T00:00:00\",\"2022-05-27T00:00:00\",\"2022-05-28T00:00:00\",\"2022-05-29T00:00:00\",\"2022-05-30T00:00:00\",\"2022-05-31T00:00:00\",\"2022-06-01T00:00:00\",\"2022-06-02T00:00:00\",\"2022-06-03T00:00:00\",\"2022-06-04T00:00:00\",\"2022-06-05T00:00:00\",\"2022-06-06T00:00:00\",\"2022-06-07T00:00:00\",\"2022-06-08T00:00:00\",\"2022-06-09T00:00:00\",\"2022-06-10T00:00:00\",\"2022-06-11T00:00:00\",\"2022-06-12T00:00:00\",\"2022-06-13T00:00:00\",\"2022-06-14T00:00:00\",\"2022-06-15T00:00:00\",\"2022-06-16T00:00:00\",\"2022-06-17T00:00:00\",\"2022-06-18T00:00:00\",\"2022-06-19T00:00:00\",\"2022-06-20T00:00:00\",\"2022-06-21T00:00:00\",\"2022-06-22T00:00:00\",\"2022-06-23T00:00:00\",\"2022-06-24T00:00:00\",\"2022-06-25T00:00:00\",\"2022-06-26T00:00:00\",\"2022-06-27T00:00:00\",\"2022-06-28T00:00:00\",\"2022-06-29T00:00:00\",\"2022-06-30T00:00:00\",\"2022-07-01T00:00:00\",\"2022-07-02T00:00:00\",\"2022-07-03T00:00:00\"],\"xaxis\":\"x\",\"y\":[60.1,37.65,56.24,32.0,26.009999999999998,50.06,58.94,29.33,63.8,36.91,41.2,72.13,60.44,50.92,84.28999999999999,42.6,53.3,67.06,78.44,91.35,60.94,55.7,38.48,104.66,39.730000000000004,37.28,122.36,61.78,37.08,56.95,52.96,27.41,50.69,106.86,114.67,56.49,101.25999999999999,22.41,68.94,37.72],\"yaxis\":\"y\",\"type\":\"scatter\"},{\"hovertemplate\":\"variable=Fiber (g)<br>Date=%{x|%B %d, %Y}<br>value=%{y}<extra></extra>\",\"legendgroup\":\"Fiber (g)\",\"line\":{\"color\":\"#FFA15A\",\"dash\":\"solid\"},\"marker\":{\"symbol\":\"circle\"},\"mode\":\"lines\",\"name\":\"Fiber (g)\",\"orientation\":\"v\",\"showlegend\":true,\"x\":[\"2022-05-25T00:00:00\",\"2022-05-26T00:00:00\",\"2022-05-27T00:00:00\",\"2022-05-28T00:00:00\",\"2022-05-29T00:00:00\",\"2022-05-30T00:00:00\",\"2022-05-31T00:00:00\",\"2022-06-01T00:00:00\",\"2022-06-02T00:00:00\",\"2022-06-03T00:00:00\",\"2022-06-04T00:00:00\",\"2022-06-05T00:00:00\",\"2022-06-06T00:00:00\",\"2022-06-07T00:00:00\",\"2022-06-08T00:00:00\",\"2022-06-09T00:00:00\",\"2022-06-10T00:00:00\",\"2022-06-11T00:00:00\",\"2022-06-12T00:00:00\",\"2022-06-13T00:00:00\",\"2022-06-14T00:00:00\",\"2022-06-15T00:00:00\",\"2022-06-16T00:00:00\",\"2022-06-17T00:00:00\",\"2022-06-18T00:00:00\",\"2022-06-19T00:00:00\",\"2022-06-20T00:00:00\",\"2022-06-21T00:00:00\",\"2022-06-22T00:00:00\",\"2022-06-23T00:00:00\",\"2022-06-24T00:00:00\",\"2022-06-25T00:00:00\",\"2022-06-26T00:00:00\",\"2022-06-27T00:00:00\",\"2022-06-28T00:00:00\",\"2022-06-29T00:00:00\",\"2022-06-30T00:00:00\",\"2022-07-01T00:00:00\",\"2022-07-02T00:00:00\",\"2022-07-03T00:00:00\"],\"xaxis\":\"x\",\"y\":[24.950000000000003,20.759999999999998,33.37,21.82,28.18,33.97,28.86,6.58,34.97,28.86,14.49,37.339999999999996,32.31,23.18,25.990000000000002,35.51,32.82,22.169999999999998,29.79,29.34,26.22,28.26,28.34,31.4,29.830000000000002,14.32,61.58,25.44,35.08,31.72,36.07,10.08,6.01,33.769999999999996,35.120000000000005,3.98,39.26,34.86,40.78,39.75],\"yaxis\":\"y\",\"type\":\"scatter\"}],                        {\"template\":{\"data\":{\"histogram2dcontour\":[{\"type\":\"histogram2dcontour\",\"colorbar\":{\"outlinewidth\":0,\"ticks\":\"\"},\"colorscale\":[[0.0,\"#0d0887\"],[0.1111111111111111,\"#46039f\"],[0.2222222222222222,\"#7201a8\"],[0.3333333333333333,\"#9c179e\"],[0.4444444444444444,\"#bd3786\"],[0.5555555555555556,\"#d8576b\"],[0.6666666666666666,\"#ed7953\"],[0.7777777777777778,\"#fb9f3a\"],[0.8888888888888888,\"#fdca26\"],[1.0,\"#f0f921\"]]}],\"choropleth\":[{\"type\":\"choropleth\",\"colorbar\":{\"outlinewidth\":0,\"ticks\":\"\"}}],\"histogram2d\":[{\"type\":\"histogram2d\",\"colorbar\":{\"outlinewidth\":0,\"ticks\":\"\"},\"colorscale\":[[0.0,\"#0d0887\"],[0.1111111111111111,\"#46039f\"],[0.2222222222222222,\"#7201a8\"],[0.3333333333333333,\"#9c179e\"],[0.4444444444444444,\"#bd3786\"],[0.5555555555555556,\"#d8576b\"],[0.6666666666666666,\"#ed7953\"],[0.7777777777777778,\"#fb9f3a\"],[0.8888888888888888,\"#fdca26\"],[1.0,\"#f0f921\"]]}],\"heatmap\":[{\"type\":\"heatmap\",\"colorbar\":{\"outlinewidth\":0,\"ticks\":\"\"},\"colorscale\":[[0.0,\"#0d0887\"],[0.1111111111111111,\"#46039f\"],[0.2222222222222222,\"#7201a8\"],[0.3333333333333333,\"#9c179e\"],[0.4444444444444444,\"#bd3786\"],[0.5555555555555556,\"#d8576b\"],[0.6666666666666666,\"#ed7953\"],[0.7777777777777778,\"#fb9f3a\"],[0.8888888888888888,\"#fdca26\"],[1.0,\"#f0f921\"]]}],\"heatmapgl\":[{\"type\":\"heatmapgl\",\"colorbar\":{\"outlinewidth\":0,\"ticks\":\"\"},\"colorscale\":[[0.0,\"#0d0887\"],[0.1111111111111111,\"#46039f\"],[0.2222222222222222,\"#7201a8\"],[0.3333333333333333,\"#9c179e\"],[0.4444444444444444,\"#bd3786\"],[0.5555555555555556,\"#d8576b\"],[0.6666666666666666,\"#ed7953\"],[0.7777777777777778,\"#fb9f3a\"],[0.8888888888888888,\"#fdca26\"],[1.0,\"#f0f921\"]]}],\"contourcarpet\":[{\"type\":\"contourcarpet\",\"colorbar\":{\"outlinewidth\":0,\"ticks\":\"\"}}],\"contour\":[{\"type\":\"contour\",\"colorbar\":{\"outlinewidth\":0,\"ticks\":\"\"},\"colorscale\":[[0.0,\"#0d0887\"],[0.1111111111111111,\"#46039f\"],[0.2222222222222222,\"#7201a8\"],[0.3333333333333333,\"#9c179e\"],[0.4444444444444444,\"#bd3786\"],[0.5555555555555556,\"#d8576b\"],[0.6666666666666666,\"#ed7953\"],[0.7777777777777778,\"#fb9f3a\"],[0.8888888888888888,\"#fdca26\"],[1.0,\"#f0f921\"]]}],\"surface\":[{\"type\":\"surface\",\"colorbar\":{\"outlinewidth\":0,\"ticks\":\"\"},\"colorscale\":[[0.0,\"#0d0887\"],[0.1111111111111111,\"#46039f\"],[0.2222222222222222,\"#7201a8\"],[0.3333333333333333,\"#9c179e\"],[0.4444444444444444,\"#bd3786\"],[0.5555555555555556,\"#d8576b\"],[0.6666666666666666,\"#ed7953\"],[0.7777777777777778,\"#fb9f3a\"],[0.8888888888888888,\"#fdca26\"],[1.0,\"#f0f921\"]]}],\"mesh3d\":[{\"type\":\"mesh3d\",\"colorbar\":{\"outlinewidth\":0,\"ticks\":\"\"}}],\"scatter\":[{\"fillpattern\":{\"fillmode\":\"overlay\",\"size\":10,\"solidity\":0.2},\"type\":\"scatter\"}],\"parcoords\":[{\"type\":\"parcoords\",\"line\":{\"colorbar\":{\"outlinewidth\":0,\"ticks\":\"\"}}}],\"scatterpolargl\":[{\"type\":\"scatterpolargl\",\"marker\":{\"colorbar\":{\"outlinewidth\":0,\"ticks\":\"\"}}}],\"bar\":[{\"error_x\":{\"color\":\"#2a3f5f\"},\"error_y\":{\"color\":\"#2a3f5f\"},\"marker\":{\"line\":{\"color\":\"#E5ECF6\",\"width\":0.5},\"pattern\":{\"fillmode\":\"overlay\",\"size\":10,\"solidity\":0.2}},\"type\":\"bar\"}],\"scattergeo\":[{\"type\":\"scattergeo\",\"marker\":{\"colorbar\":{\"outlinewidth\":0,\"ticks\":\"\"}}}],\"scatterpolar\":[{\"type\":\"scatterpolar\",\"marker\":{\"colorbar\":{\"outlinewidth\":0,\"ticks\":\"\"}}}],\"histogram\":[{\"marker\":{\"pattern\":{\"fillmode\":\"overlay\",\"size\":10,\"solidity\":0.2}},\"type\":\"histogram\"}],\"scattergl\":[{\"type\":\"scattergl\",\"marker\":{\"colorbar\":{\"outlinewidth\":0,\"ticks\":\"\"}}}],\"scatter3d\":[{\"type\":\"scatter3d\",\"line\":{\"colorbar\":{\"outlinewidth\":0,\"ticks\":\"\"}},\"marker\":{\"colorbar\":{\"outlinewidth\":0,\"ticks\":\"\"}}}],\"scattermapbox\":[{\"type\":\"scattermapbox\",\"marker\":{\"colorbar\":{\"outlinewidth\":0,\"ticks\":\"\"}}}],\"scatterternary\":[{\"type\":\"scatterternary\",\"marker\":{\"colorbar\":{\"outlinewidth\":0,\"ticks\":\"\"}}}],\"scattercarpet\":[{\"type\":\"scattercarpet\",\"marker\":{\"colorbar\":{\"outlinewidth\":0,\"ticks\":\"\"}}}],\"carpet\":[{\"aaxis\":{\"endlinecolor\":\"#2a3f5f\",\"gridcolor\":\"white\",\"linecolor\":\"white\",\"minorgridcolor\":\"white\",\"startlinecolor\":\"#2a3f5f\"},\"baxis\":{\"endlinecolor\":\"#2a3f5f\",\"gridcolor\":\"white\",\"linecolor\":\"white\",\"minorgridcolor\":\"white\",\"startlinecolor\":\"#2a3f5f\"},\"type\":\"carpet\"}],\"table\":[{\"cells\":{\"fill\":{\"color\":\"#EBF0F8\"},\"line\":{\"color\":\"white\"}},\"header\":{\"fill\":{\"color\":\"#C8D4E3\"},\"line\":{\"color\":\"white\"}},\"type\":\"table\"}],\"barpolar\":[{\"marker\":{\"line\":{\"color\":\"#E5ECF6\",\"width\":0.5},\"pattern\":{\"fillmode\":\"overlay\",\"size\":10,\"solidity\":0.2}},\"type\":\"barpolar\"}],\"pie\":[{\"automargin\":true,\"type\":\"pie\"}]},\"layout\":{\"autotypenumbers\":\"strict\",\"colorway\":[\"#636efa\",\"#EF553B\",\"#00cc96\",\"#ab63fa\",\"#FFA15A\",\"#19d3f3\",\"#FF6692\",\"#B6E880\",\"#FF97FF\",\"#FECB52\"],\"font\":{\"color\":\"#2a3f5f\"},\"hovermode\":\"closest\",\"hoverlabel\":{\"align\":\"left\"},\"paper_bgcolor\":\"white\",\"plot_bgcolor\":\"#E5ECF6\",\"polar\":{\"bgcolor\":\"#E5ECF6\",\"angularaxis\":{\"gridcolor\":\"white\",\"linecolor\":\"white\",\"ticks\":\"\"},\"radialaxis\":{\"gridcolor\":\"white\",\"linecolor\":\"white\",\"ticks\":\"\"}},\"ternary\":{\"bgcolor\":\"#E5ECF6\",\"aaxis\":{\"gridcolor\":\"white\",\"linecolor\":\"white\",\"ticks\":\"\"},\"baxis\":{\"gridcolor\":\"white\",\"linecolor\":\"white\",\"ticks\":\"\"},\"caxis\":{\"gridcolor\":\"white\",\"linecolor\":\"white\",\"ticks\":\"\"}},\"coloraxis\":{\"colorbar\":{\"outlinewidth\":0,\"ticks\":\"\"}},\"colorscale\":{\"sequential\":[[0.0,\"#0d0887\"],[0.1111111111111111,\"#46039f\"],[0.2222222222222222,\"#7201a8\"],[0.3333333333333333,\"#9c179e\"],[0.4444444444444444,\"#bd3786\"],[0.5555555555555556,\"#d8576b\"],[0.6666666666666666,\"#ed7953\"],[0.7777777777777778,\"#fb9f3a\"],[0.8888888888888888,\"#fdca26\"],[1.0,\"#f0f921\"]],\"sequentialminus\":[[0.0,\"#0d0887\"],[0.1111111111111111,\"#46039f\"],[0.2222222222222222,\"#7201a8\"],[0.3333333333333333,\"#9c179e\"],[0.4444444444444444,\"#bd3786\"],[0.5555555555555556,\"#d8576b\"],[0.6666666666666666,\"#ed7953\"],[0.7777777777777778,\"#fb9f3a\"],[0.8888888888888888,\"#fdca26\"],[1.0,\"#f0f921\"]],\"diverging\":[[0,\"#8e0152\"],[0.1,\"#c51b7d\"],[0.2,\"#de77ae\"],[0.3,\"#f1b6da\"],[0.4,\"#fde0ef\"],[0.5,\"#f7f7f7\"],[0.6,\"#e6f5d0\"],[0.7,\"#b8e186\"],[0.8,\"#7fbc41\"],[0.9,\"#4d9221\"],[1,\"#276419\"]]},\"xaxis\":{\"gridcolor\":\"white\",\"linecolor\":\"white\",\"ticks\":\"\",\"title\":{\"standoff\":15},\"zerolinecolor\":\"white\",\"automargin\":true,\"zerolinewidth\":2},\"yaxis\":{\"gridcolor\":\"white\",\"linecolor\":\"white\",\"ticks\":\"\",\"title\":{\"standoff\":15},\"zerolinecolor\":\"white\",\"automargin\":true,\"zerolinewidth\":2},\"scene\":{\"xaxis\":{\"backgroundcolor\":\"#E5ECF6\",\"gridcolor\":\"white\",\"linecolor\":\"white\",\"showbackground\":true,\"ticks\":\"\",\"zerolinecolor\":\"white\",\"gridwidth\":2},\"yaxis\":{\"backgroundcolor\":\"#E5ECF6\",\"gridcolor\":\"white\",\"linecolor\":\"white\",\"showbackground\":true,\"ticks\":\"\",\"zerolinecolor\":\"white\",\"gridwidth\":2},\"zaxis\":{\"backgroundcolor\":\"#E5ECF6\",\"gridcolor\":\"white\",\"linecolor\":\"white\",\"showbackground\":true,\"ticks\":\"\",\"zerolinecolor\":\"white\",\"gridwidth\":2}},\"shapedefaults\":{\"line\":{\"color\":\"#2a3f5f\"}},\"annotationdefaults\":{\"arrowcolor\":\"#2a3f5f\",\"arrowhead\":0,\"arrowwidth\":1},\"geo\":{\"bgcolor\":\"white\",\"landcolor\":\"#E5ECF6\",\"subunitcolor\":\"white\",\"showland\":true,\"showlakes\":true,\"lakecolor\":\"white\"},\"title\":{\"x\":0.05},\"mapbox\":{\"style\":\"light\"}}},\"xaxis\":{\"anchor\":\"y\",\"domain\":[0.0,1.0],\"title\":{\"text\":\"Date\"},\"dtick\":\"M1\",\"tickformat\":\"%b\\n%Y\",\"ticklabelmode\":\"period\"},\"yaxis\":{\"anchor\":\"x\",\"domain\":[0.0,1.0],\"title\":{\"text\":\"value\"}},\"legend\":{\"title\":{\"text\":\"variable\"},\"tracegroupgap\":0},\"title\":{\"text\":\"custom tick labels with ticklabelmode=\\\"period\\\"\"}},                        {\"responsive\": true}                    ).then(function(){\n",
       "                            \n",
       "var gd = document.getElementById('e47e47a1-9d0f-48c1-90c3-40b08f0b2899');\n",
       "var x = new MutationObserver(function (mutations, observer) {{\n",
       "        var display = window.getComputedStyle(gd).display;\n",
       "        if (!display || display === 'none') {{\n",
       "            console.log([gd, 'removed!']);\n",
       "            Plotly.purge(gd);\n",
       "            observer.disconnect();\n",
       "        }}\n",
       "}});\n",
       "\n",
       "// Listen for the removal of the full notebook cells\n",
       "var notebookContainer = gd.closest('#notebook-container');\n",
       "if (notebookContainer) {{\n",
       "    x.observe(notebookContainer, {childList: true});\n",
       "}}\n",
       "\n",
       "// Listen for the clearing of the current output cell\n",
       "var outputEl = gd.closest('.output');\n",
       "if (outputEl) {{\n",
       "    x.observe(outputEl, {childList: true});\n",
       "}}\n",
       "\n",
       "                        })                };                });            </script>        </div>"
      ]
     },
     "metadata": {},
     "output_type": "display_data"
    }
   ],
   "source": [
    "import plotly.express as px\n",
    "\n",
    "fig = px.line(food_daily, x=\"Date\", y=food_daily.columns,\n",
    "              hover_data={\"Date\": \"|%B %d, %Y\"},\n",
    "              title='custom tick labels with ticklabelmode=\"period\"')\n",
    "fig.update_xaxes(\n",
    "    dtick=\"M1\",\n",
    "    tickformat=\"%b\\n%Y\",\n",
    "    ticklabelmode=\"period\")\n",
    "fig.show()"
   ]
  }
 ],
 "metadata": {
  "kernelspec": {
   "display_name": "Python 3 (ipykernel)",
   "language": "python",
   "name": "python3"
  },
  "language_info": {
   "codemirror_mode": {
    "name": "ipython",
    "version": 3
   },
   "file_extension": ".py",
   "mimetype": "text/x-python",
   "name": "python",
   "nbconvert_exporter": "python",
   "pygments_lexer": "ipython3",
   "version": "3.10.4"
  }
 },
 "nbformat": 4,
 "nbformat_minor": 5
}
