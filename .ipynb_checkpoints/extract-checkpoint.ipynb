{
 "cells": [
  {
   "cell_type": "code",
   "execution_count": 7,
   "id": "3306d117",
   "metadata": {},
   "outputs": [],
   "source": [
    "import pandas as pd\n",
    "import os"
   ]
  },
  {
   "cell_type": "code",
   "execution_count": 8,
   "id": "3969b516",
   "metadata": {},
   "outputs": [],
   "source": [
    "fitbit = 'fitbit_export_20220704.csv'\n",
    "folder = r'data'"
   ]
  },
  {
   "cell_type": "code",
   "execution_count": 20,
   "id": "b53bdabf",
   "metadata": {},
   "outputs": [],
   "source": [
    "def fitbit_parser(csv_name):\n",
    "    \n",
    "    #read in csv\n",
    "    df = pd.read_csv(csv_name, skiprows=1)\n",
    "    #subset using masks\n",
    "    mask = df['Date'].str.contains(':')\n",
    "    sleep = df[mask]\n",
    "    activity = df[~mask]\n",
    "    #format df\n",
    "    header = activity.iloc[-1].tolist()\n",
    "    sleep.columns = header\n",
    "    sleep = sleep.drop(sleep.columns[-1], axis=1)\n",
    "\n",
    "    return sleep, activity\n",
    "\n",
    "def loseit_parser(folder_name):\n",
    "    \n",
    "    filelist = [file for file in os.listdir(folder_name) if file.startswith('W')]\n",
    "    \n",
    "    database = {}\n",
    "    for file in filelist:\n",
    "        database[file] = pd.read_csv(r'data/'+file)\n",
    "        \n",
    "    food = pd.concat(database, axis=0).reset_index(level=0)\n",
    "    \n",
    "    food['Date'] = pd.to_datetime(food['Date'])\n",
    "    food.sort_values(by='Date', inplace=True)\n",
    "    \n",
    "    return food"
   ]
  },
  {
   "cell_type": "code",
   "execution_count": 21,
   "id": "19cc28ac",
   "metadata": {},
   "outputs": [],
   "source": [
    "activity = fitbit_parser(fitbit)[1]\n",
    "sleep = fitbit_parser(fitbit)[0]\n",
    "food = loseit_parser(folder)"
   ]
  },
  {
   "cell_type": "code",
   "execution_count": 18,
   "id": "7b189c1f",
   "metadata": {},
   "outputs": [],
   "source": [
    "food.sort_values(by='Date', inplace=True)"
   ]
  },
  {
   "cell_type": "code",
   "execution_count": 16,
   "id": "d5544e9e",
   "metadata": {},
   "outputs": [
    {
     "data": {
      "text/plain": [
       "level_0                      object\n",
       "Date                 datetime64[ns]\n",
       "Name                         object\n",
       "Icon                         object\n",
       "Type                         object\n",
       "Quantity                    float64\n",
       "Units                        object\n",
       "Calories                     object\n",
       "Deleted                       int64\n",
       "Fat (g)                     float64\n",
       "Protein (g)                 float64\n",
       "Carbohydrates (g)           float64\n",
       "Saturated Fat (g)           float64\n",
       "Sugars (g)                  float64\n",
       "Fiber (g)                   float64\n",
       "Cholesterol (mg)            float64\n",
       "Sodium (mg)                 float64\n",
       "dtype: object"
      ]
     },
     "execution_count": 16,
     "metadata": {},
     "output_type": "execute_result"
    }
   ],
   "source": [
    "food.dtypes"
   ]
  },
  {
   "cell_type": "code",
   "execution_count": 22,
   "id": "54a90671",
   "metadata": {},
   "outputs": [
    {
     "data": {
      "text/html": [
       "<div>\n",
       "<style scoped>\n",
       "    .dataframe tbody tr th:only-of-type {\n",
       "        vertical-align: middle;\n",
       "    }\n",
       "\n",
       "    .dataframe tbody tr th {\n",
       "        vertical-align: top;\n",
       "    }\n",
       "\n",
       "    .dataframe thead th {\n",
       "        text-align: right;\n",
       "    }\n",
       "</style>\n",
       "<table border=\"1\" class=\"dataframe\">\n",
       "  <thead>\n",
       "    <tr style=\"text-align: right;\">\n",
       "      <th></th>\n",
       "      <th>level_0</th>\n",
       "      <th>Date</th>\n",
       "      <th>Name</th>\n",
       "      <th>Icon</th>\n",
       "      <th>Type</th>\n",
       "      <th>Quantity</th>\n",
       "      <th>Units</th>\n",
       "      <th>Calories</th>\n",
       "      <th>Deleted</th>\n",
       "      <th>Fat (g)</th>\n",
       "      <th>Protein (g)</th>\n",
       "      <th>Carbohydrates (g)</th>\n",
       "      <th>Saturated Fat (g)</th>\n",
       "      <th>Sugars (g)</th>\n",
       "      <th>Fiber (g)</th>\n",
       "      <th>Cholesterol (mg)</th>\n",
       "      <th>Sodium (mg)</th>\n",
       "    </tr>\n",
       "  </thead>\n",
       "  <tbody>\n",
       "    <tr>\n",
       "      <th>70</th>\n",
       "      <td>WeeklySummary7813.csv</td>\n",
       "      <td>2022-05-25</td>\n",
       "      <td>Fuzzy Peach</td>\n",
       "      <td>Candy</td>\n",
       "      <td>Snacks</td>\n",
       "      <td>3.25</td>\n",
       "      <td>Grams</td>\n",
       "      <td>12</td>\n",
       "      <td>0</td>\n",
       "      <td>0.0</td>\n",
       "      <td>0.0</td>\n",
       "      <td>2.9</td>\n",
       "      <td>0.0</td>\n",
       "      <td>2.45</td>\n",
       "      <td>0.0</td>\n",
       "      <td>0.0</td>\n",
       "      <td>2.75</td>\n",
       "    </tr>\n",
       "    <tr>\n",
       "      <th>59</th>\n",
       "      <td>WeeklySummary7813.csv</td>\n",
       "      <td>2022-05-25</td>\n",
       "      <td>Chicken Ham &amp; Swiss</td>\n",
       "      <td>Chicken</td>\n",
       "      <td>Lunch</td>\n",
       "      <td>1.00</td>\n",
       "      <td>Piece</td>\n",
       "      <td>290</td>\n",
       "      <td>0</td>\n",
       "      <td>12.0</td>\n",
       "      <td>24.0</td>\n",
       "      <td>21.0</td>\n",
       "      <td>3.0</td>\n",
       "      <td>1.00</td>\n",
       "      <td>1.0</td>\n",
       "      <td>60.0</td>\n",
       "      <td>510.00</td>\n",
       "    </tr>\n",
       "  </tbody>\n",
       "</table>\n",
       "</div>"
      ],
      "text/plain": [
       "                  level_0       Date                 Name     Icon    Type  \\\n",
       "70  WeeklySummary7813.csv 2022-05-25          Fuzzy Peach    Candy  Snacks   \n",
       "59  WeeklySummary7813.csv 2022-05-25  Chicken Ham & Swiss  Chicken   Lunch   \n",
       "\n",
       "    Quantity  Units Calories  Deleted  Fat (g)  Protein (g)  \\\n",
       "70      3.25  Grams       12        0      0.0          0.0   \n",
       "59      1.00  Piece      290        0     12.0         24.0   \n",
       "\n",
       "    Carbohydrates (g)  Saturated Fat (g)  Sugars (g)  Fiber (g)  \\\n",
       "70                2.9                0.0        2.45        0.0   \n",
       "59               21.0                3.0        1.00        1.0   \n",
       "\n",
       "    Cholesterol (mg)  Sodium (mg)  \n",
       "70               0.0         2.75  \n",
       "59              60.0       510.00  "
      ]
     },
     "execution_count": 22,
     "metadata": {},
     "output_type": "execute_result"
    }
   ],
   "source": [
    "food.head(2)"
   ]
  },
  {
   "cell_type": "code",
   "execution_count": 24,
   "id": "c4d6cef3",
   "metadata": {},
   "outputs": [],
   "source": [
    "import matplotlib.pyplot as plt"
   ]
  },
  {
   "cell_type": "code",
   "execution_count": 31,
   "id": "9457fb1a",
   "metadata": {},
   "outputs": [
    {
     "data": {
      "text/html": [
       "<div>\n",
       "<style scoped>\n",
       "    .dataframe tbody tr th:only-of-type {\n",
       "        vertical-align: middle;\n",
       "    }\n",
       "\n",
       "    .dataframe tbody tr th {\n",
       "        vertical-align: top;\n",
       "    }\n",
       "\n",
       "    .dataframe thead th {\n",
       "        text-align: right;\n",
       "    }\n",
       "</style>\n",
       "<table border=\"1\" class=\"dataframe\">\n",
       "  <thead>\n",
       "    <tr style=\"text-align: right;\">\n",
       "      <th></th>\n",
       "      <th>Date</th>\n",
       "      <th>Calories Burned</th>\n",
       "      <th>Steps</th>\n",
       "      <th>Distance</th>\n",
       "      <th>Floors</th>\n",
       "      <th>Minutes Sedentary</th>\n",
       "      <th>Minutes Lightly Active</th>\n",
       "      <th>Minutes Fairly Active</th>\n",
       "      <th>Minutes Very Active</th>\n",
       "      <th>Activity Calories</th>\n",
       "    </tr>\n",
       "  </thead>\n",
       "  <tbody>\n",
       "    <tr>\n",
       "      <th>count</th>\n",
       "      <td>33</td>\n",
       "      <td>32</td>\n",
       "      <td>32</td>\n",
       "      <td>32</td>\n",
       "      <td>32</td>\n",
       "      <td>32</td>\n",
       "      <td>32</td>\n",
       "      <td>32</td>\n",
       "      <td>32</td>\n",
       "      <td>31</td>\n",
       "    </tr>\n",
       "    <tr>\n",
       "      <th>unique</th>\n",
       "      <td>33</td>\n",
       "      <td>31</td>\n",
       "      <td>32</td>\n",
       "      <td>32</td>\n",
       "      <td>19</td>\n",
       "      <td>32</td>\n",
       "      <td>30</td>\n",
       "      <td>20</td>\n",
       "      <td>23</td>\n",
       "      <td>31</td>\n",
       "    </tr>\n",
       "    <tr>\n",
       "      <th>top</th>\n",
       "      <td>2022-05-25</td>\n",
       "      <td>3,532</td>\n",
       "      <td>9,917</td>\n",
       "      <td>4.68</td>\n",
       "      <td>13</td>\n",
       "      <td>595</td>\n",
       "      <td>258</td>\n",
       "      <td>0</td>\n",
       "      <td>0</td>\n",
       "      <td>2,325</td>\n",
       "    </tr>\n",
       "    <tr>\n",
       "      <th>freq</th>\n",
       "      <td>1</td>\n",
       "      <td>2</td>\n",
       "      <td>1</td>\n",
       "      <td>1</td>\n",
       "      <td>4</td>\n",
       "      <td>1</td>\n",
       "      <td>2</td>\n",
       "      <td>10</td>\n",
       "      <td>10</td>\n",
       "      <td>1</td>\n",
       "    </tr>\n",
       "  </tbody>\n",
       "</table>\n",
       "</div>"
      ],
      "text/plain": [
       "              Date Calories Burned  Steps Distance Floors Minutes Sedentary  \\\n",
       "count           33              32     32       32     32                32   \n",
       "unique          33              31     32       32     19                32   \n",
       "top     2022-05-25           3,532  9,917     4.68     13               595   \n",
       "freq             1               2      1        1      4                 1   \n",
       "\n",
       "       Minutes Lightly Active Minutes Fairly Active Minutes Very Active  \\\n",
       "count                      32                    32                  32   \n",
       "unique                     30                    20                  23   \n",
       "top                       258                     0                   0   \n",
       "freq                        2                    10                  10   \n",
       "\n",
       "       Activity Calories  \n",
       "count                 31  \n",
       "unique                31  \n",
       "top                2,325  \n",
       "freq                   1  "
      ]
     },
     "execution_count": 31,
     "metadata": {},
     "output_type": "execute_result"
    }
   ],
   "source": [
    "activity.describe()"
   ]
  },
  {
   "cell_type": "code",
   "execution_count": 28,
   "id": "d102e4fa",
   "metadata": {},
   "outputs": [
    {
     "data": {
      "image/png": "[encoded data removed]",
      "text/plain": [
       "<Figure size 432x288 with 1 Axes>"
      ]
     },
     "metadata": {
      "needs_background": "light"
     },
     "output_type": "display_data"
    }
   ],
   "source": [
    "counts = food[\"Type\"].value_counts()\n",
    "plt.bar(counts.index, counts.values)\n",
    "plt.show()"
   ]
  }
 ],
 "metadata": {
  "kernelspec": {
   "display_name": "Python 3 (ipykernel)",
   "language": "python",
   "name": "python3"
  },
  "language_info": {
   "codemirror_mode": {
    "name": "ipython",
    "version": 3
   },
   "file_extension": ".py",
   "mimetype": "text/x-python",
   "name": "python",
   "nbconvert_exporter": "python",
   "pygments_lexer": "ipython3",
   "version": "3.10.4"
  }
 },
 "nbformat": 4,
 "nbformat_minor": 5
}
